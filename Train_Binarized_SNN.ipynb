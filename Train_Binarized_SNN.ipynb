{
  "nbformat": 4,
  "nbformat_minor": 0,
  "metadata": {
    "colab": {
      "provenance": [],
      "machine_shape": "hm",
      "gpuType": "V100"
    },
    "kernelspec": {
      "name": "python3",
      "display_name": "Python 3"
    },
    "language_info": {
      "name": "python"
    },
    "accelerator": "GPU"
  },
  "cells": [
    {
      "cell_type": "markdown",
      "source": [
        "[![Open In Colab](https://colab.research.google.com/assets/colab-badge.svg)](https://colab.research.google.com/github/neuromorphs/osn23-huge-tapeout/blob/main/Train_Binarized_SNN.ipynb)"
      ],
      "metadata": {
        "id": "w5wJQOqFjbwO"
      }
    },
    {
      "cell_type": "code",
      "source": [
        "!pip install snntorch"
      ],
      "metadata": {
        "colab": {
          "base_uri": "https://localhost:8080/"
        },
        "id": "zadn76o6NGl4",
        "outputId": "2abfaaec-4e2d-4b6b-c6bd-d4cd4a7b3e53"
      },
      "execution_count": null,
      "outputs": [
        {
          "output_type": "stream",
          "name": "stdout",
          "text": [
            "Requirement already satisfied: snntorch in /usr/local/lib/python3.10/dist-packages (0.6.4)\n",
            "Requirement already satisfied: torch>=1.1.0 in /usr/local/lib/python3.10/dist-packages (from snntorch) (2.0.1+cu118)\n",
            "Requirement already satisfied: pandas in /usr/local/lib/python3.10/dist-packages (from snntorch) (1.5.3)\n",
            "Requirement already satisfied: matplotlib in /usr/local/lib/python3.10/dist-packages (from snntorch) (3.7.1)\n",
            "Requirement already satisfied: numpy>=1.17 in /usr/local/lib/python3.10/dist-packages (from snntorch) (1.22.4)\n",
            "Requirement already satisfied: filelock in /usr/local/lib/python3.10/dist-packages (from torch>=1.1.0->snntorch) (3.12.2)\n",
            "Requirement already satisfied: typing-extensions in /usr/local/lib/python3.10/dist-packages (from torch>=1.1.0->snntorch) (4.6.3)\n",
            "Requirement already satisfied: sympy in /usr/local/lib/python3.10/dist-packages (from torch>=1.1.0->snntorch) (1.11.1)\n",
            "Requirement already satisfied: networkx in /usr/local/lib/python3.10/dist-packages (from torch>=1.1.0->snntorch) (3.1)\n",
            "Requirement already satisfied: jinja2 in /usr/local/lib/python3.10/dist-packages (from torch>=1.1.0->snntorch) (3.1.2)\n",
            "Requirement already satisfied: triton==2.0.0 in /usr/local/lib/python3.10/dist-packages (from torch>=1.1.0->snntorch) (2.0.0)\n",
            "Requirement already satisfied: cmake in /usr/local/lib/python3.10/dist-packages (from triton==2.0.0->torch>=1.1.0->snntorch) (3.25.2)\n",
            "Requirement already satisfied: lit in /usr/local/lib/python3.10/dist-packages (from triton==2.0.0->torch>=1.1.0->snntorch) (16.0.6)\n",
            "Requirement already satisfied: contourpy>=1.0.1 in /usr/local/lib/python3.10/dist-packages (from matplotlib->snntorch) (1.1.0)\n",
            "Requirement already satisfied: cycler>=0.10 in /usr/local/lib/python3.10/dist-packages (from matplotlib->snntorch) (0.11.0)\n",
            "Requirement already satisfied: fonttools>=4.22.0 in /usr/local/lib/python3.10/dist-packages (from matplotlib->snntorch) (4.40.0)\n",
            "Requirement already satisfied: kiwisolver>=1.0.1 in /usr/local/lib/python3.10/dist-packages (from matplotlib->snntorch) (1.4.4)\n",
            "Requirement already satisfied: packaging>=20.0 in /usr/local/lib/python3.10/dist-packages (from matplotlib->snntorch) (23.1)\n",
            "Requirement already satisfied: pillow>=6.2.0 in /usr/local/lib/python3.10/dist-packages (from matplotlib->snntorch) (8.4.0)\n",
            "Requirement already satisfied: pyparsing>=2.3.1 in /usr/local/lib/python3.10/dist-packages (from matplotlib->snntorch) (3.1.0)\n",
            "Requirement already satisfied: python-dateutil>=2.7 in /usr/local/lib/python3.10/dist-packages (from matplotlib->snntorch) (2.8.2)\n",
            "Requirement already satisfied: pytz>=2020.1 in /usr/local/lib/python3.10/dist-packages (from pandas->snntorch) (2022.7.1)\n",
            "Requirement already satisfied: six>=1.5 in /usr/local/lib/python3.10/dist-packages (from python-dateutil>=2.7->matplotlib->snntorch) (1.16.0)\n",
            "Requirement already satisfied: MarkupSafe>=2.0 in /usr/local/lib/python3.10/dist-packages (from jinja2->torch>=1.1.0->snntorch) (2.1.3)\n",
            "Requirement already satisfied: mpmath>=0.19 in /usr/local/lib/python3.10/dist-packages (from sympy->torch>=1.1.0->snntorch) (1.3.0)\n"
          ]
        }
      ]
    },
    {
      "cell_type": "code",
      "source": [
        "import torch\n",
        "config = {\n",
        "        'model' : 'Net',\n",
        "\n",
        "        'exp_name' : 'mnist_tha',\n",
        "        'num_trials' : 5,\n",
        "        'num_epochs' : 500,\n",
        "        'binarize' : True,\n",
        "        'data_dir' : \"~/data/mnist\",\n",
        "        'batch_size' : 128,\n",
        "        'seed' : 0,\n",
        "        'num_workers' : 0,\n",
        "\n",
        "        # final run sweeps\n",
        "        'save_csv' : True,\n",
        "        'save_model' : True,\n",
        "        'early_stopping': True,\n",
        "        'patience': 100,\n",
        "\n",
        "        # final params\n",
        "        'grad_clip' : False,\n",
        "        'weight_clip' : False,\n",
        "        'batch_norm' : True,\n",
        "        'dropout1' : 0.02856,\n",
        "        'beta' : 0.99,\n",
        "        'lr' : 9.97e-3,\n",
        "        'slope': 10.22,\n",
        "\n",
        "        # threshold annealing. note: thr_final = threshold + thr_final\n",
        "        'threshold1' : 11.666,\n",
        "        'alpha_thr1' : 0.024,\n",
        "        'thr_final1' : 4.317,\n",
        "\n",
        "        'threshold2' : 14.105,\n",
        "        'alpha_thr2' : 0.119,\n",
        "        'thr_final2' : 16.29,\n",
        "\n",
        "        'threshold3' : 0.6656,\n",
        "        'alpha_thr3' : 0.0011,\n",
        "        'thr_final3' : 3.496,\n",
        "\n",
        "        # fixed params\n",
        "        'num_steps' : 100,\n",
        "        'correct_rate': 0.8,\n",
        "        'incorrect_rate' : 0.2,\n",
        "        'betas' : (0.9, 0.999),\n",
        "        't_0' : 4688,\n",
        "        'eta_min' : 0,\n",
        "        'df_lr' : True, # return learning rate. Useful for scheduling\n",
        "    }\n",
        "\n",
        "def optim_func(net, config):\n",
        "    optimizer = torch.optim.Adam(net.parameters(), lr=config[\"lr\"], betas=config['betas'])\n",
        "    scheduler = torch.optim.lr_scheduler.CosineAnnealingLR(optimizer, T_max=config['t_0'], eta_min=config['eta_min'], last_epoch=-1)\n",
        "    return optimizer, scheduler\n"
      ],
      "metadata": {
        "id": "O0L13aqxMYtN"
      },
      "execution_count": null,
      "outputs": []
    },
    {
      "cell_type": "code",
      "source": [
        "import torch\n",
        "import torch.nn as nn\n",
        "from torch.autograd import Function\n",
        "\n",
        "class BinarizeF(Function):\n",
        "    @staticmethod\n",
        "    def forward(ctx, input):\n",
        "        output = input.new(input.size())\n",
        "        output[input >= 0] = 1\n",
        "        output[input < 0] = -1\n",
        "        return output\n",
        "\n",
        "    @staticmethod\n",
        "    def backward(ctx, grad_output):\n",
        "        grad_input = grad_output.clone()\n",
        "        return grad_input\n",
        "\n",
        "# aliases\n",
        "binarize = BinarizeF.apply"
      ],
      "metadata": {
        "id": "vb6YCUbWMfG6"
      },
      "execution_count": null,
      "outputs": []
    },
    {
      "cell_type": "code",
      "execution_count": null,
      "metadata": {
        "id": "wED_xSVyMTfi"
      },
      "outputs": [],
      "source": [
        "import math\n",
        "\n",
        "import torch\n",
        "import torch.nn as nn\n",
        "import torch.nn.functional as F\n",
        "from torch.autograd import Variable\n",
        "\n",
        "class BinaryTanh(nn.Module):\n",
        "    def __init__(self):\n",
        "        super(BinaryTanh, self).__init__()\n",
        "        self.hardtanh = nn.Hardtanh()\n",
        "\n",
        "    def forward(self, input):\n",
        "        output = self.hardtanh(input)\n",
        "        output = binarize(output)\n",
        "        return output\n",
        "\n",
        "\n",
        "class BinaryLinear(nn.Linear):\n",
        "\n",
        "    def forward(self, input):\n",
        "        binary_weight = binarize(self.weight)\n",
        "        if self.bias is None:\n",
        "            return F.linear(input, binary_weight)\n",
        "        else:\n",
        "            return F.linear(input, binary_weight, self.bias)\n",
        "\n",
        "    def reset_parameters(self):\n",
        "        # Glorot initialization\n",
        "        in_features, out_features = self.weight.size()\n",
        "        stdv = math.sqrt(1.5 / (in_features + out_features))\n",
        "        self.weight.data.uniform_(-stdv, stdv)\n",
        "        if self.bias is not None:\n",
        "            self.bias.data.zero_()\n",
        "\n",
        "        self.weight.lr_scale = 1. / stdv\n",
        "\n",
        "class SparseBinaryLinear(nn.Linear):\n",
        "    def __init__(self, in_features, out_features, sparsity=0, bias=True, device=None, dtype=None):\n",
        "        super(SparseBinaryLinear, self).__init__(in_features, out_features, bias, device, dtype)\n",
        "        self.mask = torch.bernoulli(torch.ones_like(self.weight) * (1-sparsity))\n",
        "        self.register_buffer('weight_mask_const', self.mask)\n",
        "\n",
        "    def forward(self, input):\n",
        "        binary_weight = binarize(self.weight).mul(Variable(self.weight_mask_const))\n",
        "        if self.bias is None:\n",
        "            return F.linear(input, binary_weight)\n",
        "        else:\n",
        "            return F.linear(input, binary_weight, self.bias)\n",
        "\n",
        "    def reset_parameters(self):\n",
        "        # Glorot initialization\n",
        "        in_features, out_features = self.weight.size()\n",
        "        stdv = math.sqrt(1.5 / (in_features + out_features))\n",
        "        self.weight.data.uniform_(-stdv, stdv)\n",
        "        if self.bias is not None:\n",
        "            self.bias.data.zero_()\n",
        "\n",
        "        self.weight.lr_scale = 1. / stdv\n",
        "\n",
        "class BinaryConv2d(nn.Conv2d):\n",
        "\n",
        "    def forward(self, input):\n",
        "        bw = binarize(self.weight)\n",
        "        return F.conv2d(input, bw, self.bias, self.stride,\n",
        "                               self.padding, self.dilation, self.groups)\n",
        "\n",
        "    def reset_parameters(self):\n",
        "        # Glorot initialization\n",
        "        in_features = self.in_channels\n",
        "        out_features = self.out_channels\n",
        "        for k in self.kernel_size:\n",
        "            in_features *= k\n",
        "            out_features *= k\n",
        "        stdv = math.sqrt(1.5 / (in_features + out_features))\n",
        "        self.weight.data.uniform_(-stdv, stdv)\n",
        "        if self.bias is not None:\n",
        "            self.bias.data.zero_()\n",
        "\n",
        "        self.weight.lr_scale = 1. / stdv"
      ]
    },
    {
      "cell_type": "code",
      "source": [
        "import torch\n",
        "import torch.nn as nn\n",
        "from torch.utils.data import DataLoader\n",
        "from torchvision import datasets, transforms\n",
        "\n",
        "def load_data(config):\n",
        "        data_dir = config['data_dir']\n",
        "\n",
        "        transform = transforms.Compose([\n",
        "                transforms.Resize((28, 28)),\n",
        "                transforms.Grayscale(),\n",
        "                transforms.ToTensor(),\n",
        "                transforms.Normalize((0,), (1,))])\n",
        "\n",
        "        trainset = datasets.MNIST(data_dir, train=True, download=True, transform=transform)\n",
        "        testset = datasets.MNIST(data_dir, train=False, download=True, transform=transform)\n",
        "\n",
        "        return trainset, testset"
      ],
      "metadata": {
        "id": "TPJW3wqPMbEX"
      },
      "execution_count": null,
      "outputs": []
    },
    {
      "cell_type": "code",
      "source": [
        "import torch\n",
        "\n",
        "\n",
        "class EarlyStopping_acc:\n",
        "    \"\"\"Early stops the training if test acc doesn't improve after a given patience.\"\"\"\n",
        "    def __init__(self, patience=7, verbose=False, delta=0, path='checkpoint.pt', trace_func=print):\n",
        "        \"\"\"\n",
        "        Args:\n",
        "            patience (int): How long to wait after last time validation loss improved.\n",
        "                            Default: 7\n",
        "            verbose (bool): If True, prints a message for each validation loss improvement.\n",
        "                            Default: False\n",
        "            delta (float): Minimum change in the monitored quantity to qualify as an improvement.\n",
        "                            Default: 0\n",
        "            path (str): Path for the checkpoint to be saved to.\n",
        "                            Default: 'checkpoint.pt'\n",
        "            trace_func (function): trace print function.\n",
        "                            Default: print\n",
        "        \"\"\"\n",
        "        self.patience = patience\n",
        "        self.verbose = verbose\n",
        "        self.counter = 0\n",
        "        self.best_score = None\n",
        "        self.early_stop = False\n",
        "        self.test_loss_min = 0\n",
        "        self.delta = delta\n",
        "        self.path = path\n",
        "        self.trace_func = trace_func\n",
        "    def __call__(self, test_loss, model):\n",
        "\n",
        "        score = test_loss\n",
        "\n",
        "        if self.best_score is None:\n",
        "            self.best_score = score\n",
        "            self.save_checkpoint(test_loss, model)\n",
        "        elif score <= self.best_score + self.delta:\n",
        "            self.counter += 1\n",
        "            self.trace_func(f'EarlyStopping counter: {self.counter} out of {self.patience}')\n",
        "            if self.counter >= self.patience:\n",
        "                self.early_stop = True\n",
        "                self.counter = 0\n",
        "        else:\n",
        "            self.best_score = score\n",
        "            self.save_checkpoint(test_loss, model)\n",
        "            self.counter = 0\n",
        "\n",
        "    def save_checkpoint(self, test_loss, model):\n",
        "        '''Saves model when test acc increases.'''\n",
        "        if self.verbose:\n",
        "            self.trace_func(f'Test acc increased ({self.test_loss_min:.6f} --> {test_loss:.6f}).  Saving model ...')\n",
        "        torch.save(model.state_dict(), self.path)\n",
        "        self.test_loss_min = test_loss"
      ],
      "metadata": {
        "id": "K4S2cHioMdrY"
      },
      "execution_count": null,
      "outputs": []
    },
    {
      "cell_type": "code",
      "source": [
        "import torch\n",
        "import snntorch as snn\n",
        "from snntorch import functional as SF\n",
        "\n",
        "def test_accuracy(config, net, testloader, device=\"cpu\"):\n",
        "    correct = 0\n",
        "    total = 0\n",
        "    with torch.no_grad():\n",
        "        net.eval()\n",
        "        for data in testloader:\n",
        "            images, labels = data\n",
        "            images, labels = images.to(device), labels.to(device)\n",
        "\n",
        "            outputs, _ = net(images)\n",
        "            accuracy = SF.accuracy_rate(outputs, labels)\n",
        "\n",
        "            total += labels.size(0)\n",
        "            correct += accuracy * labels.size(0)\n",
        "\n",
        "    return 100 * correct / total"
      ],
      "metadata": {
        "id": "VXtq5vi-MlL6"
      },
      "execution_count": null,
      "outputs": []
    },
    {
      "cell_type": "code",
      "source": [
        "# exp relaxation implementation of THA based on Eq (4)\n",
        "\n",
        "def thr_annealing(config, network):\n",
        "    alpha_thr1 = config['alpha_thr1']\n",
        "    alpha_thr2 = config['alpha_thr2']\n",
        "    alpha_thr3 = config['alpha_thr3']\n",
        "\n",
        "    thr_final1 = config['thr_final1']\n",
        "    thr_final2 = config['thr_final2']\n",
        "    thr_final3 = config['thr_final3']\n",
        "\n",
        "    network.lif1.threshold += (thr_final1 - network.lif1.threshold) * alpha_thr1\n",
        "    network.lif2.threshold += (thr_final2 - network.lif2.threshold) * alpha_thr2\n",
        "    network.lif3.threshold += (thr_final3 - network.lif3.threshold) * alpha_thr3\n",
        "\n",
        "    return"
      ],
      "metadata": {
        "id": "DOU3fLVkMmJO"
      },
      "execution_count": null,
      "outputs": []
    },
    {
      "cell_type": "code",
      "source": [
        "# snntorch\n",
        "import snntorch as snn\n",
        "from snntorch import spikegen\n",
        "from snntorch import surrogate\n",
        "from snntorch import functional as SF\n",
        "\n",
        "# torch\n",
        "import torch\n",
        "import torch.nn as nn\n",
        "from torch.utils.data import DataLoader\n",
        "from torchvision import datasets, transforms\n",
        "import torch.nn.functional as F\n",
        "from torch.optim.lr_scheduler import StepLR\n",
        "\n",
        "# misc\n",
        "import os\n",
        "import numpy as np\n",
        "import math\n",
        "import itertools\n",
        "import matplotlib.pyplot as plt\n",
        "import pandas as pd\n",
        "import shutil\n",
        "import time\n",
        "from tqdm import tqdm\n",
        "\n",
        "def train(config, net, epoch, trainloader, testloader, criterion, optimizer, scheduler, device):\n",
        "    net.train()\n",
        "    loss_accum = []\n",
        "    lr_accum = []\n",
        "\n",
        "    # TRAIN\n",
        "    progress_bar = tqdm(trainloader)\n",
        "    loss_current = None\n",
        "\n",
        "    #for data, labels in trainloader:\n",
        "    for data, labels in progress_bar:\n",
        "        data, labels = data.to(device), labels.to(device)\n",
        "\n",
        "        spk_rec2, _ = net(data)\n",
        "        loss = criterion(spk_rec2, labels)\n",
        "        optimizer.zero_grad()\n",
        "        loss.backward()\n",
        "        if loss_current is None:\n",
        "            loss_current = loss.item()\n",
        "        else:\n",
        "            loss_current = 0.9 * loss_current + 0.1 * loss.item()\n",
        "        progress_bar.set_description(f\"loss: {loss_current:.4f}\")\n",
        "\n",
        "        if config['grad_clip']:\n",
        "            nn.utils.clip_grad_norm_(net.parameters(), 1.0)\n",
        "        if config['weight_clip']:\n",
        "            with torch.no_grad():\n",
        "                for param in net.parameters():\n",
        "                    param.clamp_(-1, 1)\n",
        "\n",
        "        optimizer.step()\n",
        "        scheduler.step()\n",
        "        thr_annealing(config, net)\n",
        "\n",
        "\n",
        "        loss_accum.append(loss.item()/config['num_steps'])\n",
        "        lr_accum.append(optimizer.param_groups[0][\"lr\"])\n",
        "\n",
        "\n",
        "    return loss_accum, lr_accum"
      ],
      "metadata": {
        "id": "VD1SnCZgMo2m"
      },
      "execution_count": null,
      "outputs": []
    },
    {
      "cell_type": "code",
      "source": [
        "# snntorch\n",
        "import snntorch as snn\n",
        "from snntorch import spikegen\n",
        "from snntorch import surrogate\n",
        "\n",
        "# torch\n",
        "import torch\n",
        "import torch.nn as nn\n",
        "from torch.utils.data import DataLoader\n",
        "\n",
        "# misc\n",
        "import numpy as np\n",
        "import pandas as pd\n",
        "import time\n",
        "import logging\n",
        "\n",
        "def run(config):\n",
        "    print(config)\n",
        "    file_name = config['exp_name']\n",
        "\n",
        "    ### to address conditional parameters, s.t. thr_final > threshold\n",
        "    config['thr_final1'] = config['thr_final1'] + config['threshold1']\n",
        "    config['thr_final2'] = config['thr_final2'] + config['threshold2']\n",
        "    config['thr_final3'] = config['thr_final3'] + config['threshold3']\n",
        "\n",
        "    threshold1 = config['threshold1']\n",
        "    threshold2 = config['threshold2']\n",
        "    threshold3 = config['threshold3']\n",
        "\n",
        "    for trial in range(config['num_trials']):\n",
        "        # file names\n",
        "        SAVE_CSV = config['save_csv']\n",
        "        SAVE_MODEL = config['save_model']\n",
        "        csv_name = file_name + '_t' + str(trial) + '.csv'\n",
        "        log_name = file_name + '_t' + str(trial) + '.log'\n",
        "        model_name = file_name + '_t' + str(trial) + '.pt'\n",
        "        num_epochs = config['num_epochs']\n",
        "        torch.manual_seed(config['seed'])\n",
        "\n",
        "        config['threshold1'] = threshold1\n",
        "        config['threshold2'] = threshold2\n",
        "        config['threshold3'] = threshold3\n",
        "\n",
        "        # dataframes\n",
        "        df_train_loss = pd.DataFrame()\n",
        "        df_test_acc = pd.DataFrame(columns=['epoch', 'test_acc', 'train_time'])\n",
        "        df_lr = pd.DataFrame()\n",
        "\n",
        "        # initialize network\n",
        "        net = None\n",
        "        net_desc = config['model']\n",
        "        if net_desc in globals():\n",
        "            klass = globals()[net_desc]\n",
        "            net = klass(config)\n",
        "        else:\n",
        "            net = eval(net_desc)\n",
        "        if trial == 0:\n",
        "            print(net)\n",
        "        device = \"cpu\"\n",
        "        #device = \"mps\"\n",
        "        if torch.cuda.is_available():\n",
        "            device = \"cuda:0\"\n",
        "            if torch.cuda.device_count() > 1:\n",
        "                net = nn.DataParallel(net)\n",
        "        net.to(device)\n",
        "\n",
        "        # net params\n",
        "        criterion = SF.mse_count_loss(correct_rate=config['correct_rate'], incorrect_rate=config['incorrect_rate'])\n",
        "        optimizer, scheduler = optim_func(net, config)\n",
        "\n",
        "        # early stopping condition\n",
        "        if config['early_stopping']:\n",
        "            early_stopping = EarlyStopping_acc(patience=config['patience'], verbose=True, path=model_name)\n",
        "            early_stopping.early_stop = False\n",
        "            early_stopping.best_score = None\n",
        "\n",
        "        # load data\n",
        "        trainset, testset = load_data(config)\n",
        "        config['dataset_length'] = len(trainset)\n",
        "        trainloader = DataLoader(trainset, batch_size=int(config[\"batch_size\"]), shuffle=True)\n",
        "        testloader = DataLoader(testset, batch_size=int(config[\"batch_size\"]), shuffle=False)\n",
        "\n",
        "        print(f\"=======Trial: {trial}=======\")\n",
        "\n",
        "        for epoch in range(num_epochs):\n",
        "\n",
        "            # train\n",
        "            start_time = time.time()\n",
        "            loss_list, lr_list = train(config, net, epoch, trainloader, testloader, criterion, optimizer, scheduler, device)\n",
        "            epoch_time = time.time() - start_time\n",
        "\n",
        "            # test\n",
        "            test_acc = test_accuracy(config, net, testloader, device)\n",
        "            print(f'Epoch: {epoch} \\tTest Accuracy: {test_acc}')\n",
        "\n",
        "            if config['df_lr']:\n",
        "                df_lr = pd.concat([df_lr, pd.DataFrame(lr_list)])\n",
        "            df_train_loss = pd.concat([df_train_loss, pd.DataFrame(loss_list)])\n",
        "            test_data = pd.DataFrame([[epoch, test_acc, epoch_time]], columns = ['epoch', 'test_acc', 'train_time'])\n",
        "            df_test_acc = pd.concat([df_test_acc, test_data])\n",
        "\n",
        "            if SAVE_CSV:\n",
        "                df_train_loss.to_csv('loss_' + csv_name, index=False)\n",
        "                df_test_acc.to_csv('acc_' + csv_name, index=False)\n",
        "                if config['df_lr']:\n",
        "                    df_lr.to_csv('lr_' + csv_name, index=False)\n",
        "\n",
        "            if config['early_stopping']:\n",
        "                early_stopping(test_acc, net)\n",
        "\n",
        "                if early_stopping.early_stop:\n",
        "                    print(\"Early stopping\")\n",
        "                    early_stopping.early_stop = False\n",
        "                    early_stopping.best_score = None\n",
        "                    break\n",
        "\n",
        "            if SAVE_MODEL and not config['early_stopping']:\n",
        "                torch.save(net.state_dict(), model_name)\n",
        "\n",
        "            #for param in net.parameters():\n",
        "            #    print(param)\n",
        "        # net.load_state_dict(torch.load(model_name))\n"
      ],
      "metadata": {
        "id": "S7d0Bj7qMjyp"
      },
      "execution_count": null,
      "outputs": []
    },
    {
      "cell_type": "code",
      "source": [
        "# snntorch\n",
        "import snntorch as snn\n",
        "from snntorch import surrogate\n",
        "\n",
        "# torch\n",
        "import torch\n",
        "import torch.nn as nn\n",
        "import torch.nn.functional as F\n",
        "\n",
        "class Net(nn.Module):\n",
        "    def __init__(self, config):\n",
        "        super().__init__()\n",
        "\n",
        "        self.thr1 = config['threshold1']\n",
        "        self.thr2 = config['threshold2']\n",
        "        self.thr3 = config['threshold3']\n",
        "        slope = config['slope']\n",
        "        beta = config['beta']\n",
        "        self.num_steps = config['num_steps']\n",
        "        self.batch_norm = config['batch_norm']\n",
        "        p1 = config['dropout1']\n",
        "        self.binarize = config['binarize']\n",
        "\n",
        "        spike_grad = surrogate.fast_sigmoid(slope)\n",
        "        # Initialize layers with spike operator\n",
        "        self.bconv1 = BinaryConv2d(1, 16, 5, bias=False)\n",
        "        self.conv1 = nn.Conv2d(1, 16, 5, bias=False)\n",
        "        self.conv1_bn = nn.BatchNorm2d(16)\n",
        "        self.lif1 = snn.Leaky(beta, threshold=self.thr1, spike_grad=spike_grad)\n",
        "        self.bconv2 = BinaryConv2d(16, 64, 5, bias=False)\n",
        "        self.conv2 = nn.Conv2d(16, 64, 5, bias=False)\n",
        "        self.conv2_bn = nn.BatchNorm2d(64)\n",
        "        self.lif2 = snn.Leaky(beta, threshold=self.thr2, spike_grad=spike_grad)\n",
        "        self.bfc1 = BinaryLinear(64 * 4 * 4, 10)\n",
        "        self.fc1 = nn.Linear(64 * 4 * 4, 10)\n",
        "        self.lif3 = snn.Leaky(beta, threshold=self.thr3, spike_grad=spike_grad)\n",
        "        self.dropout = nn.Dropout(p1)\n",
        "\n",
        "    def forward(self, x):\n",
        "\n",
        "        # Initialize hidden states and outputs at t=0\n",
        "        mem1 = self.lif1.init_leaky()\n",
        "        mem2 = self.lif2.init_leaky()\n",
        "        mem3 = self.lif3.init_leaky()\n",
        "\n",
        "        # Record the final layer\n",
        "        spk3_rec = []\n",
        "        mem3_rec = []\n",
        "\n",
        "        # Binarized\n",
        "        if self.binarize:\n",
        "\n",
        "            for step in range(self.num_steps):\n",
        "\n",
        "                cur1 = F.avg_pool2d(self.bconv1(x), 2)\n",
        "                if self.batch_norm:\n",
        "                    cur1 = self.conv1_bn(cur1)\n",
        "                spk1, mem1 = self.lif1(cur1, mem1)\n",
        "                cur2 = F.avg_pool2d(self.bconv2(spk1), 2)\n",
        "                if self.batch_norm:\n",
        "                    cur2 = self.conv2_bn(cur2)\n",
        "                spk2, mem2 = self.lif2(cur2, mem2)\n",
        "                cur3 = self.dropout(self.bfc1(spk2.flatten(1)))\n",
        "                spk3, mem3 = self.lif3(cur3, mem3)\n",
        "\n",
        "                spk3_rec.append(spk3)\n",
        "                mem3_rec.append(mem3)\n",
        "\n",
        "            return torch.stack(spk3_rec, dim=0), torch.stack(mem3_rec, dim=0)\n",
        "\n",
        "        # Full Precision\n",
        "        else:\n",
        "\n",
        "            for step in range(self.num_steps):\n",
        "\n",
        "                cur1 = F.avg_pool2d(self.conv1(x), 2)\n",
        "                if self.batch_norm:\n",
        "                    cur1 = self.conv1_bn(cur1)\n",
        "                spk1, mem1 = self.lif1(cur1, mem1)\n",
        "                cur2 = F.avg_pool2d(self.conv2(spk1), 2)\n",
        "                if self.batch_norm:\n",
        "                    cur2 = self.conv2_bn(cur2)\n",
        "                spk2, mem2 = self.lif2(cur2, mem2)\n",
        "                cur3 = self.dropout(self.fc1(spk2.flatten(1)))\n",
        "                spk3, mem3 = self.lif3(cur3, mem3)\n",
        "\n",
        "                spk3_rec.append(spk3)\n",
        "                mem3_rec.append(mem3)\n",
        "\n",
        "            return torch.stack(spk3_rec, dim=0), torch.stack(mem3_rec, dim=0)\n",
        "\n",
        "class NetFC(nn.Module):\n",
        "    def __init__(self, config, neurons=[256, 128], sparsity=0.0):\n",
        "        super().__init__()\n",
        "\n",
        "        self.thr1 = config['threshold1']\n",
        "        self.thr2 = config['threshold2']\n",
        "        self.thr3 = config['threshold3']\n",
        "        slope = config['slope']\n",
        "        beta = config['beta']\n",
        "        self.num_steps = config['num_steps']\n",
        "        self.batch_norm = config['batch_norm']\n",
        "        p1 = config['dropout1']\n",
        "        self.binarize = config['binarize']\n",
        "\n",
        "        spike_grad = surrogate.fast_sigmoid(slope)\n",
        "        # Initialize layers with spike operator\n",
        "        self.bfc1 = SparseBinaryLinear(28 * 28, neurons[0], sparsity, bias=False)\n",
        "        self.fc1 = nn.Linear(28 * 28, neurons[0], bias=False)\n",
        "        self.bn1 = nn.BatchNorm1d(neurons[0])\n",
        "        self.lif1 = snn.Leaky(beta, threshold=self.thr1, spike_grad=spike_grad)\n",
        "\n",
        "        self.bfc2 = SparseBinaryLinear(neurons[0], neurons[1], sparsity, bias=False)\n",
        "        self.fc2 = nn.Linear(neurons[0], neurons[1], bias=False)\n",
        "        self.bn2 = nn.BatchNorm1d(neurons[1])\n",
        "        self.lif2 = snn.Leaky(beta, threshold=self.thr2, spike_grad=spike_grad)\n",
        "\n",
        "        self.bfc3 = BinaryLinear(neurons[1], 10, bias=False)\n",
        "        self.fc3 = nn.Linear(neurons[1], 10, bias=False)\n",
        "        self.lif3 = snn.Leaky(beta, threshold=self.thr3, spike_grad=spike_grad)\n",
        "        self.dropout = nn.Dropout(p1)\n",
        "\n",
        "    def forward(self, x):\n",
        "\n",
        "        # Initialize hidden states and outputs at t=0\n",
        "        mem1 = self.lif1.init_leaky()\n",
        "        mem2 = self.lif2.init_leaky()\n",
        "        mem3 = self.lif3.init_leaky()\n",
        "\n",
        "        # Record the final layer\n",
        "        spk3_rec = []\n",
        "        mem3_rec = []\n",
        "\n",
        "        # Binarized\n",
        "        if self.binarize:\n",
        "            for step in range(self.num_steps):\n",
        "\n",
        "                cur1 = self.bfc1(x.flatten(1))\n",
        "                if self.batch_norm:\n",
        "                    cur1 = self.bn1(cur1)\n",
        "                spk1, mem1 = self.lif1(cur1, mem1)\n",
        "                cur2 = self.bfc2(spk1)\n",
        "                if self.batch_norm:\n",
        "                    cur2 = self.bn2(cur2)\n",
        "                spk2, mem2 = self.lif2(cur2, mem2)\n",
        "                cur3 = self.dropout(self.bfc3(spk2))\n",
        "                spk3, mem3 = self.lif3(cur3, mem3)\n",
        "                # =======Trial: 0=======\n",
        "                # loss: 0.8453: 100%|██████████| 469/469 [02:46<00:00,  2.82it/s]\n",
        "                # Epoch: 0 \tTest Accuracy: 91.18\n",
        "                # Test acc increased (0.000000 --> 91.180000).  Saving model ...\n",
        "                # loss: 0.6933: 100%|██████████| 469/469 [02:45<00:00,  2.83it/s]\n",
        "                # Epoch: 1 \tTest Accuracy: 92.05\n",
        "                # Test acc increased (91.180000 --> 92.050000).  Saving model ...\n",
        "                # loss: 0.6445: 100%|██████████| 469/469 [02:45<00:00,  2.83it/s]\n",
        "                # Epoch: 2 \tTest Accuracy: 93.22\n",
        "                # Test acc increased (92.050000 --> 93.220000).  Saving model ...\n",
        "                # loss: 0.5774: 100%|██████████| 469/469 [02:46<00:00,  2.82it/s]\n",
        "                # Epoch: 3 \tTest Accuracy: 94.03\n",
        "                # Test acc increased (93.220000 --> 94.030000).  Saving model ...\n",
        "                # loss: 0.5002: 100%|██████████| 469/469 [02:45<00:00,  2.83it/s]\n",
        "                # Epoch: 4 \tTest Accuracy: 94.21\n",
        "                # Test acc increased (94.030000 --> 94.210000).  Saving model ...\n",
        "                # loss: 0.5120: 100%|██████████| 469/469 [02:45<00:00,  2.83it/s]\n",
        "                # Epoch: 5 \tTest Accuracy: 94.88\n",
        "                # Test acc increased (94.210000 --> 94.880000).  Saving model ...\n",
        "                # loss: 0.4805: 100%|██████████| 469/469 [02:44<00:00,  2.84it/s]\n",
        "                # Epoch: 6 \tTest Accuracy: 95.07\n",
        "                # Test acc increased (94.880000 --> 95.070000).  Saving model ...\n",
        "                # loss: 0.4456: 100%|██████████| 469/469 [02:45<00:00,  2.84it/s]\n",
        "                # Epoch: 7 \tTest Accuracy: 95.49\n",
        "                # Test acc increased (95.070000 --> 95.490000).  Saving model ...\n",
        "                # loss: 0.4310: 100%|██████████| 469/469 [02:44<00:00,  2.85it/s]\n",
        "                # Epoch: 8 \tTest Accuracy: 95.43\n",
        "                # EarlyStopping counter: 1 out of 100\n",
        "                # loss: 0.4317: 100%|██████████| 469/469 [02:42<00:00,  2.89it/s]\n",
        "                # Epoch: 9 \tTest Accuracy: 95.63\n",
        "\n",
        "                # spk1, mem1 = self.lif1(self.bfc1(x.flatten(1)), mem1)\n",
        "                # if self.batch_norm:\n",
        "                #     spk1 = self.bn1(spk1)\n",
        "                # spk2, mem2 = self.lif2(self.bfc2(spk1), mem2)\n",
        "                # if self.batch_norm:\n",
        "                #     spk2 = self.bn2(spk2)\n",
        "                # cur3 = self.dropout(self.bfc3(spk2))\n",
        "                # spk3, mem3 = self.lif3(cur3, mem3)\n",
        "                #                 =======Trial: 0=======\n",
        "                # loss: 6.6307: 100%|██████████| 469/469 [02:45<00:00,  2.84it/s]\n",
        "                # Epoch: 0 \tTest Accuracy: 62.82\n",
        "                # Test acc increased (0.000000 --> 62.820000).  Saving model ...\n",
        "                # loss: 6.2358: 100%|██████████| 469/469 [02:45<00:00,  2.84it/s]\n",
        "                # Epoch: 1 \tTest Accuracy: 65.86\n",
        "                # Test acc increased (62.820000 --> 65.860000).  Saving model ...\n",
        "                # loss: 2.3662: 100%|██████████| 469/469 [02:45<00:00,  2.84it/s]\n",
        "                # Epoch: 2 \tTest Accuracy: 84.27\n",
        "                # Test acc increased (65.860000 --> 84.270000).  Saving model ...\n",
        "                # loss: 1.1735: 100%|██████████| 469/469 [02:46<00:00,  2.82it/s]\n",
        "                # Epoch: 3 \tTest Accuracy: 89.85\n",
        "                # Test acc increased (84.270000 --> 89.850000).  Saving model ...\n",
        "                # loss: 0.9328: 100%|██████████| 469/469 [02:45<00:00,  2.83it/s]\n",
        "                # Epoch: 4 \tTest Accuracy: 90.92\n",
        "                # Test acc increased (89.850000 --> 90.920000).  Saving model ...\n",
        "                # loss: 0.8480: 100%|██████████| 469/469 [02:46<00:00,  2.82it/s]\n",
        "\n",
        "                spk3_rec.append(spk3)\n",
        "                mem3_rec.append(mem3)\n",
        "\n",
        "            return torch.stack(spk3_rec, dim=0), torch.stack(mem3_rec, dim=0)\n",
        "\n",
        "        # Full Precision\n",
        "        else:\n",
        "\n",
        "            for step in range(self.num_steps):\n",
        "\n",
        "                cur1 = self.fc1(x.flatten(1))\n",
        "                if self.batch_norm:\n",
        "                    cur1 = self.bn1(cur1)\n",
        "                spk1, mem1 = self.lif1(cur1, mem1)\n",
        "                cur2 = self.fc2(spk1)\n",
        "                if self.batch_norm:\n",
        "                    cur2 = self.bn2(cur2)\n",
        "                spk2, mem2 = self.lif2(cur2, mem2)\n",
        "                cur3 = self.dropout(self.fc3(spk2))\n",
        "                spk3, mem3 = self.lif3(cur3, mem3)\n",
        "\n",
        "                spk3_rec.append(spk3)\n",
        "                mem3_rec.append(mem3)\n",
        "\n",
        "            return torch.stack(spk3_rec, dim=0), torch.stack(mem3_rec, dim=0)\n",
        "\n",
        "class NetFC_FirstConv(nn.Module):\n",
        "    def __init__(self, config, neurons=[16, 256]):\n",
        "        super().__init__()\n",
        "\n",
        "        self.thr1 = config['threshold1']\n",
        "        self.thr2 = config['threshold2']\n",
        "        self.thr3 = config['threshold3']\n",
        "        slope = config['slope']\n",
        "        beta = config['beta']\n",
        "        self.num_steps = config['num_steps']\n",
        "        self.batch_norm = config['batch_norm']\n",
        "        p1 = config['dropout1']\n",
        "        self.binarize = config['binarize']\n",
        "\n",
        "        spike_grad = surrogate.fast_sigmoid(slope)\n",
        "        # Initialize layers with spike operator\n",
        "        self.bconv1 = BinaryConv2d(1, neurons[0], 5, bias=False)\n",
        "        self.conv1 = nn.Conv2d(1, neurons[0], 5, bias=False)\n",
        "        self.conv1_bn = nn.BatchNorm2d(neurons[0])\n",
        "        self.lif1 = snn.Leaky(beta, threshold=self.thr1, spike_grad=spike_grad)\n",
        "\n",
        "        n = ((28-(5//2))/2)**2\n",
        "        print(n)\n",
        "        self.bfc2 = BinaryLinear(n, neurons[1])\n",
        "        self.fc2 = nn.Linear(n, neurons[1])\n",
        "        self.bn2 = nn.BatchNorm1d(neurons[1])\n",
        "        self.lif2 = snn.Leaky(beta, threshold=self.thr2, spike_grad=spike_grad)\n",
        "\n",
        "        self.bfc3 = BinaryLinear(neurons[1], 10)\n",
        "        self.fc3 = nn.Linear(neurons[1], 10)\n",
        "        self.lif3 = snn.Leaky(beta, threshold=self.thr3, spike_grad=spike_grad)\n",
        "        self.dropout = nn.Dropout(p1)\n",
        "\n",
        "    def forward(self, x):\n",
        "\n",
        "        # Initialize hidden states and outputs at t=0\n",
        "        mem1 = self.lif1.init_leaky()\n",
        "        mem2 = self.lif2.init_leaky()\n",
        "        mem3 = self.lif3.init_leaky()\n",
        "\n",
        "        # Record the final layer\n",
        "        spk3_rec = []\n",
        "        mem3_rec = []\n",
        "\n",
        "        # Binarized\n",
        "        if self.binarize:\n",
        "\n",
        "            for step in range(self.num_steps):\n",
        "\n",
        "                cur1 = F.avg_pool2d(self.bconv1(x), 2)\n",
        "                if self.batch_norm:\n",
        "                    cur1 = self.conv1_bn(cur1)\n",
        "                spk1, mem1 = self.lif1(cur1, mem1)\n",
        "                spk2, mem2 = self.lif2(self.bfc2(spk1.flatten(1)), mem2)\n",
        "                if self.batch_norm:\n",
        "                    spk2 = self.bn2(spk2)\n",
        "                cur3 = self.dropout(self.bfc3(spk2))\n",
        "                spk3, mem3 = self.lif3(cur3, mem3)\n",
        "\n",
        "                spk3_rec.append(spk3)\n",
        "                mem3_rec.append(mem3)\n",
        "\n",
        "            return torch.stack(spk3_rec, dim=0), torch.stack(mem3_rec, dim=0)\n",
        "\n",
        "        # Full Precision\n",
        "        else:\n",
        "\n",
        "            for step in range(self.num_steps):\n",
        "\n",
        "                cur1 = F.avg_pool2d(self.conv1(x), 2)\n",
        "                if self.batch_norm:\n",
        "                    cur1 = self.conv1_bn(cur1)\n",
        "                spk1, mem1 = self.lif1(cur1, mem1)\n",
        "                spk2, mem2 = self.lif2(self.fc2(spk1.flatten(1)), mem2)\n",
        "                if self.batch_norm:\n",
        "                    spk2 = self.bn2(spk2)\n",
        "                cur3 = self.dropout(self.fc3(spk2))\n",
        "                spk3, mem3 = self.lif3(cur3, mem3)\n",
        "\n",
        "                spk3_rec.append(spk3)\n",
        "                mem3_rec.append(mem3)\n",
        "\n",
        "            return torch.stack(spk3_rec, dim=0), torch.stack(mem3_rec, dim=0)"
      ],
      "metadata": {
        "id": "U_IRbNKuMgho"
      },
      "execution_count": null,
      "outputs": []
    },
    {
      "cell_type": "code",
      "source": [
        "cfg = config\n",
        "cfg['model'] = 'NetFC'\n",
        "run(cfg)"
      ],
      "metadata": {
        "colab": {
          "base_uri": "https://localhost:8080/"
        },
        "id": "ilgG9-7Oda39",
        "outputId": "67360605-8762-4850-cd7f-95d522ad5e35"
      },
      "execution_count": null,
      "outputs": [
        {
          "metadata": {
            "tags": null
          },
          "name": "stdout",
          "output_type": "stream",
          "text": [
            "{'model': 'NetFC', 'exp_name': 'mnist_tha', 'num_trials': 5, 'num_epochs': 500, 'binarize': True, 'data_dir': '~/data/mnist', 'batch_size': 128, 'seed': 0, 'num_workers': 0, 'save_csv': True, 'save_model': True, 'early_stopping': True, 'patience': 100, 'grad_clip': False, 'weight_clip': False, 'batch_norm': True, 'dropout1': 0.02856, 'beta': 0.99, 'lr': 0.00997, 'slope': 10.22, 'threshold1': 11.666, 'alpha_thr1': 0.024, 'thr_final1': 4.317, 'threshold2': 14.105, 'alpha_thr2': 0.119, 'thr_final2': 16.29, 'threshold3': 0.6656, 'alpha_thr3': 0.0011, 'thr_final3': 3.496, 'num_steps': 100, 'correct_rate': 0.8, 'incorrect_rate': 0.2, 'betas': (0.9, 0.999), 't_0': 4688, 'eta_min': 0, 'df_lr': True}\n",
            "tensor([[1., 1., 1.,  ..., 1., 1., 1.],\n",
            "        [1., 1., 1.,  ..., 1., 1., 1.],\n",
            "        [1., 1., 1.,  ..., 1., 1., 1.],\n",
            "        ...,\n",
            "        [1., 1., 1.,  ..., 1., 1., 1.],\n",
            "        [1., 1., 1.,  ..., 1., 1., 1.],\n",
            "        [1., 1., 1.,  ..., 1., 1., 1.]])\n",
            "tensor([[1., 1., 1.,  ..., 1., 1., 1.],\n",
            "        [1., 1., 1.,  ..., 1., 1., 1.],\n",
            "        [1., 1., 1.,  ..., 1., 1., 1.],\n",
            "        ...,\n",
            "        [1., 1., 1.,  ..., 1., 1., 1.],\n",
            "        [1., 1., 1.,  ..., 1., 1., 1.],\n",
            "        [1., 1., 1.,  ..., 1., 1., 1.]])\n",
            "NetFC(\n",
            "  (bfc1): SparseBinaryLinear(in_features=784, out_features=256, bias=False)\n",
            "  (fc1): Linear(in_features=784, out_features=256, bias=False)\n",
            "  (bn1): BatchNorm1d(256, eps=1e-05, momentum=0.1, affine=True, track_running_stats=True)\n",
            "  (lif1): Leaky()\n",
            "  (bfc2): SparseBinaryLinear(in_features=256, out_features=128, bias=False)\n",
            "  (fc2): Linear(in_features=256, out_features=128, bias=False)\n",
            "  (bn2): BatchNorm1d(128, eps=1e-05, momentum=0.1, affine=True, track_running_stats=True)\n",
            "  (lif2): Leaky()\n",
            "  (bfc3): BinaryLinear(in_features=128, out_features=10, bias=False)\n",
            "  (fc3): Linear(in_features=128, out_features=10, bias=False)\n",
            "  (lif3): Leaky()\n",
            "  (dropout): Dropout(p=0.02856, inplace=False)\n",
            ")\n",
            "=======Trial: 0=======\n"
          ]
        },
        {
          "metadata": {
            "tags": null
          },
          "name": "stderr",
          "output_type": "stream",
          "text": [
            "loss: 0.7371: 100%|██████████| 469/469 [02:37<00:00,  2.97it/s]\n"
          ]
        },
        {
          "metadata": {
            "tags": null
          },
          "name": "stdout",
          "output_type": "stream",
          "text": [
            "Epoch: 0 \tTest Accuracy: 95.05\n",
            "Test acc increased (0.000000 --> 95.050000).  Saving model ...\n"
          ]
        },
        {
          "metadata": {
            "tags": null
          },
          "name": "stderr",
          "output_type": "stream",
          "text": [
            "loss: 0.6158: 100%|██████████| 469/469 [02:35<00:00,  3.02it/s]\n"
          ]
        },
        {
          "metadata": {
            "tags": null
          },
          "name": "stdout",
          "output_type": "stream",
          "text": [
            "Epoch: 1 \tTest Accuracy: 95.83\n",
            "Test acc increased (95.050000 --> 95.830000).  Saving model ...\n"
          ]
        },
        {
          "metadata": {
            "tags": null
          },
          "name": "stderr",
          "output_type": "stream",
          "text": [
            "loss: 0.5232: 100%|██████████| 469/469 [02:33<00:00,  3.05it/s]\n"
          ]
        },
        {
          "metadata": {
            "tags": null
          },
          "name": "stdout",
          "output_type": "stream",
          "text": [
            "Epoch: 2 \tTest Accuracy: 96.39\n",
            "Test acc increased (95.830000 --> 96.390000).  Saving model ...\n"
          ]
        },
        {
          "metadata": {
            "tags": null
          },
          "name": "stderr",
          "output_type": "stream",
          "text": [
            "loss: 0.4982: 100%|██████████| 469/469 [02:37<00:00,  2.98it/s]\n"
          ]
        },
        {
          "metadata": {
            "tags": null
          },
          "name": "stdout",
          "output_type": "stream",
          "text": [
            "Epoch: 3 \tTest Accuracy: 96.7\n",
            "Test acc increased (96.390000 --> 96.700000).  Saving model ...\n"
          ]
        },
        {
          "metadata": {
            "tags": null
          },
          "name": "stderr",
          "output_type": "stream",
          "text": [
            "loss: 0.4986: 100%|██████████| 469/469 [02:34<00:00,  3.03it/s]\n"
          ]
        },
        {
          "metadata": {
            "tags": null
          },
          "name": "stdout",
          "output_type": "stream",
          "text": [
            "Epoch: 4 \tTest Accuracy: 96.19\n",
            "EarlyStopping counter: 1 out of 100\n"
          ]
        },
        {
          "metadata": {
            "tags": null
          },
          "name": "stderr",
          "output_type": "stream",
          "text": [
            "loss: 0.4009: 100%|██████████| 469/469 [02:34<00:00,  3.03it/s]\n"
          ]
        },
        {
          "metadata": {
            "tags": null
          },
          "name": "stdout",
          "output_type": "stream",
          "text": [
            "Epoch: 5 \tTest Accuracy: 96.82\n",
            "Test acc increased (96.700000 --> 96.820000).  Saving model ...\n"
          ]
        },
        {
          "metadata": {
            "tags": null
          },
          "name": "stderr",
          "output_type": "stream",
          "text": [
            "loss: 0.4119: 100%|██████████| 469/469 [02:35<00:00,  3.02it/s]\n"
          ]
        },
        {
          "metadata": {
            "tags": null
          },
          "name": "stdout",
          "output_type": "stream",
          "text": [
            "Epoch: 6 \tTest Accuracy: 97.03\n",
            "Test acc increased (96.820000 --> 97.030000).  Saving model ...\n"
          ]
        },
        {
          "metadata": {
            "tags": null
          },
          "name": "stderr",
          "output_type": "stream",
          "text": [
            "loss: 0.3949: 100%|██████████| 469/469 [02:34<00:00,  3.04it/s]\n"
          ]
        },
        {
          "metadata": {
            "tags": null
          },
          "name": "stdout",
          "output_type": "stream",
          "text": [
            "Epoch: 7 \tTest Accuracy: 96.9\n",
            "EarlyStopping counter: 1 out of 100\n"
          ]
        },
        {
          "metadata": {
            "tags": null
          },
          "name": "stderr",
          "output_type": "stream",
          "text": [
            "loss: 0.3644: 100%|██████████| 469/469 [02:35<00:00,  3.01it/s]\n"
          ]
        },
        {
          "metadata": {
            "tags": null
          },
          "name": "stdout",
          "output_type": "stream",
          "text": [
            "Epoch: 8 \tTest Accuracy: 97.42\n",
            "Test acc increased (97.030000 --> 97.420000).  Saving model ...\n"
          ]
        },
        {
          "metadata": {
            "tags": null
          },
          "name": "stderr",
          "output_type": "stream",
          "text": [
            "loss: 0.2978: 100%|██████████| 469/469 [02:34<00:00,  3.04it/s]\n"
          ]
        },
        {
          "metadata": {
            "tags": null
          },
          "name": "stdout",
          "output_type": "stream",
          "text": [
            "Epoch: 9 \tTest Accuracy: 97.45\n",
            "Test acc increased (97.420000 --> 97.450000).  Saving model ...\n"
          ]
        },
        {
          "metadata": {
            "tags": null
          },
          "name": "stderr",
          "output_type": "stream",
          "text": [
            "loss: 0.3801: 100%|██████████| 469/469 [02:36<00:00,  2.99it/s]\n"
          ]
        },
        {
          "metadata": {
            "tags": null
          },
          "name": "stdout",
          "output_type": "stream",
          "text": [
            "Epoch: 10 \tTest Accuracy: 97.19\n",
            "EarlyStopping counter: 1 out of 100\n"
          ]
        },
        {
          "metadata": {
            "tags": null
          },
          "name": "stderr",
          "output_type": "stream",
          "text": [
            "loss: 0.4160: 100%|██████████| 469/469 [02:35<00:00,  3.01it/s]\n"
          ]
        },
        {
          "metadata": {
            "tags": null
          },
          "name": "stdout",
          "output_type": "stream",
          "text": [
            "Epoch: 11 \tTest Accuracy: 97.1\n",
            "EarlyStopping counter: 2 out of 100\n"
          ]
        },
        {
          "metadata": {
            "tags": null
          },
          "name": "stderr",
          "output_type": "stream",
          "text": [
            "loss: 0.3943: 100%|██████████| 469/469 [02:35<00:00,  3.01it/s]\n"
          ]
        },
        {
          "metadata": {
            "tags": null
          },
          "name": "stdout",
          "output_type": "stream",
          "text": [
            "Epoch: 12 \tTest Accuracy: 96.76\n",
            "EarlyStopping counter: 3 out of 100\n"
          ]
        },
        {
          "metadata": {
            "tags": null
          },
          "name": "stderr",
          "output_type": "stream",
          "text": [
            "loss: 0.3945: 100%|██████████| 469/469 [02:35<00:00,  3.01it/s]\n"
          ]
        },
        {
          "metadata": {
            "tags": null
          },
          "name": "stdout",
          "output_type": "stream",
          "text": [
            "Epoch: 13 \tTest Accuracy: 97.16\n",
            "EarlyStopping counter: 4 out of 100\n"
          ]
        },
        {
          "output_type": "stream",
          "name": "stderr",
          "text": [
            "loss: 0.4393:  91%|█████████ | 427/469 [02:21<00:14,  2.93it/s]"
          ]
        }
      ]
    },
    {
      "cell_type": "code",
      "source": [
        "cfg = config\n",
        "cfg['model'] = 'NetFC(config, sparsity=0.1)'\n",
        "run(cfg)"
      ],
      "metadata": {
        "id": "Bav7tGbu-lI7"
      },
      "execution_count": null,
      "outputs": []
    },
    {
      "cell_type": "code",
      "source": [],
      "metadata": {
        "id": "AD44-7Wuhw0D"
      },
      "execution_count": null,
      "outputs": []
    },
    {
      "cell_type": "code",
      "source": [
        "cfg = config\n",
        "cfg['model'] = 'NetFC(config, [128, 128], sparsity=0.1)'\n",
        "run(cfg)"
      ],
      "metadata": {
        "colab": {
          "base_uri": "https://localhost:8080/",
          "height": 1000
        },
        "id": "3YjoyaO3_ODS",
        "outputId": "f4c3fe69-afa1-4e23-d50e-0998b96fe5dd"
      },
      "execution_count": null,
      "outputs": [
        {
          "output_type": "stream",
          "name": "stdout",
          "text": [
            "{'model': 'NetFC(config, [128, 128], sparsity=0.1)', 'exp_name': 'mnist_tha', 'num_trials': 5, 'num_epochs': 500, 'binarize': True, 'data_dir': '~/data/mnist', 'batch_size': 128, 'seed': 0, 'num_workers': 0, 'save_csv': True, 'save_model': True, 'early_stopping': True, 'patience': 100, 'grad_clip': False, 'weight_clip': False, 'batch_norm': True, 'dropout1': 0.02856, 'beta': 0.99, 'lr': 0.00997, 'slope': 10.22, 'threshold1': 11.666, 'alpha_thr1': 0.024, 'thr_final1': 39.315, 'threshold2': 14.105, 'alpha_thr2': 0.119, 'thr_final2': 58.605000000000004, 'threshold3': 0.6656, 'alpha_thr3': 0.0011, 'thr_final3': 5.492799999999999, 'num_steps': 100, 'correct_rate': 0.8, 'incorrect_rate': 0.2, 'betas': (0.9, 0.999), 't_0': 4688, 'eta_min': 0, 'df_lr': True, 'dataset_length': 60000}\n",
            "tensor([[1., 0., 0.,  ..., 0., 0., 0.],\n",
            "        [0., 0., 0.,  ..., 0., 0., 0.],\n",
            "        [0., 0., 0.,  ..., 0., 0., 1.],\n",
            "        ...,\n",
            "        [0., 0., 0.,  ..., 0., 0., 1.],\n",
            "        [0., 0., 0.,  ..., 1., 0., 0.],\n",
            "        [0., 0., 0.,  ..., 0., 0., 0.]])\n",
            "tensor([[0., 0., 0.,  ..., 0., 0., 0.],\n",
            "        [0., 0., 0.,  ..., 0., 0., 0.],\n",
            "        [0., 0., 0.,  ..., 0., 1., 0.],\n",
            "        ...,\n",
            "        [0., 0., 0.,  ..., 0., 0., 1.],\n",
            "        [0., 0., 0.,  ..., 0., 0., 0.],\n",
            "        [0., 1., 0.,  ..., 0., 1., 0.]])\n",
            "NetFC(\n",
            "  (bfc1): SparseBinaryLinear(in_features=784, out_features=128, bias=False)\n",
            "  (fc1): Linear(in_features=784, out_features=128, bias=False)\n",
            "  (bn1): BatchNorm1d(128, eps=1e-05, momentum=0.1, affine=True, track_running_stats=True)\n",
            "  (lif1): Leaky()\n",
            "  (bfc2): SparseBinaryLinear(in_features=128, out_features=128, bias=False)\n",
            "  (fc2): Linear(in_features=128, out_features=128, bias=False)\n",
            "  (bn2): BatchNorm1d(128, eps=1e-05, momentum=0.1, affine=True, track_running_stats=True)\n",
            "  (lif2): Leaky()\n",
            "  (bfc3): BinaryLinear(in_features=128, out_features=10, bias=False)\n",
            "  (fc3): Linear(in_features=128, out_features=10, bias=False)\n",
            "  (lif3): Leaky()\n",
            "  (dropout): Dropout(p=0.02856, inplace=False)\n",
            ")\n",
            "=======Trial: 0=======\n"
          ]
        },
        {
          "output_type": "stream",
          "name": "stderr",
          "text": [
            "loss: 2.2480: 100%|██████████| 469/469 [02:39<00:00,  2.94it/s]\n"
          ]
        },
        {
          "output_type": "stream",
          "name": "stdout",
          "text": [
            "Epoch: 0 \tTest Accuracy: 68.11\n",
            "Test acc increased (0.000000 --> 68.110000).  Saving model ...\n"
          ]
        },
        {
          "output_type": "stream",
          "name": "stderr",
          "text": [
            "loss: 1.6682: 100%|██████████| 469/469 [02:39<00:00,  2.93it/s]\n"
          ]
        },
        {
          "output_type": "stream",
          "name": "stdout",
          "text": [
            "Epoch: 1 \tTest Accuracy: 82.4\n",
            "Test acc increased (68.110000 --> 82.400000).  Saving model ...\n"
          ]
        },
        {
          "output_type": "stream",
          "name": "stderr",
          "text": [
            "loss: 1.3879: 100%|██████████| 469/469 [02:41<00:00,  2.90it/s]\n"
          ]
        },
        {
          "output_type": "stream",
          "name": "stdout",
          "text": [
            "Epoch: 2 \tTest Accuracy: 86.15\n",
            "Test acc increased (82.400000 --> 86.150000).  Saving model ...\n"
          ]
        },
        {
          "output_type": "stream",
          "name": "stderr",
          "text": [
            "loss: 1.3864:  32%|███▏      | 148/469 [00:51<01:51,  2.87it/s]\n"
          ]
        },
        {
          "output_type": "error",
          "ename": "KeyboardInterrupt",
          "evalue": "ignored",
          "traceback": [
            "\u001b[0;31m---------------------------------------------------------------------------\u001b[0m",
            "\u001b[0;31mKeyboardInterrupt\u001b[0m                         Traceback (most recent call last)",
            "\u001b[0;32m<ipython-input-75-6a66a3ef118e>\u001b[0m in \u001b[0;36m<cell line: 3>\u001b[0;34m()\u001b[0m\n\u001b[1;32m      1\u001b[0m \u001b[0mcfg\u001b[0m \u001b[0;34m=\u001b[0m \u001b[0mconfig\u001b[0m\u001b[0;34m\u001b[0m\u001b[0;34m\u001b[0m\u001b[0m\n\u001b[1;32m      2\u001b[0m \u001b[0mcfg\u001b[0m\u001b[0;34m[\u001b[0m\u001b[0;34m'model'\u001b[0m\u001b[0;34m]\u001b[0m \u001b[0;34m=\u001b[0m \u001b[0;34m'NetFC(config, [128, 128], sparsity=0.1)'\u001b[0m\u001b[0;34m\u001b[0m\u001b[0;34m\u001b[0m\u001b[0m\n\u001b[0;32m----> 3\u001b[0;31m \u001b[0mrun\u001b[0m\u001b[0;34m(\u001b[0m\u001b[0mcfg\u001b[0m\u001b[0;34m)\u001b[0m\u001b[0;34m\u001b[0m\u001b[0;34m\u001b[0m\u001b[0m\n\u001b[0m",
            "\u001b[0;32m<ipython-input-70-142117f114e7>\u001b[0m in \u001b[0;36mrun\u001b[0;34m(config)\u001b[0m\n\u001b[1;32m     87\u001b[0m             \u001b[0;31m# train\u001b[0m\u001b[0;34m\u001b[0m\u001b[0;34m\u001b[0m\u001b[0m\n\u001b[1;32m     88\u001b[0m             \u001b[0mstart_time\u001b[0m \u001b[0;34m=\u001b[0m \u001b[0mtime\u001b[0m\u001b[0;34m.\u001b[0m\u001b[0mtime\u001b[0m\u001b[0;34m(\u001b[0m\u001b[0;34m)\u001b[0m\u001b[0;34m\u001b[0m\u001b[0;34m\u001b[0m\u001b[0m\n\u001b[0;32m---> 89\u001b[0;31m             \u001b[0mloss_list\u001b[0m\u001b[0;34m,\u001b[0m \u001b[0mlr_list\u001b[0m \u001b[0;34m=\u001b[0m \u001b[0mtrain\u001b[0m\u001b[0;34m(\u001b[0m\u001b[0mconfig\u001b[0m\u001b[0;34m,\u001b[0m \u001b[0mnet\u001b[0m\u001b[0;34m,\u001b[0m \u001b[0mepoch\u001b[0m\u001b[0;34m,\u001b[0m \u001b[0mtrainloader\u001b[0m\u001b[0;34m,\u001b[0m \u001b[0mtestloader\u001b[0m\u001b[0;34m,\u001b[0m \u001b[0mcriterion\u001b[0m\u001b[0;34m,\u001b[0m \u001b[0moptimizer\u001b[0m\u001b[0;34m,\u001b[0m \u001b[0mscheduler\u001b[0m\u001b[0;34m,\u001b[0m \u001b[0mdevice\u001b[0m\u001b[0;34m)\u001b[0m\u001b[0;34m\u001b[0m\u001b[0;34m\u001b[0m\u001b[0m\n\u001b[0m\u001b[1;32m     90\u001b[0m             \u001b[0mepoch_time\u001b[0m \u001b[0;34m=\u001b[0m \u001b[0mtime\u001b[0m\u001b[0;34m.\u001b[0m\u001b[0mtime\u001b[0m\u001b[0;34m(\u001b[0m\u001b[0;34m)\u001b[0m \u001b[0;34m-\u001b[0m \u001b[0mstart_time\u001b[0m\u001b[0;34m\u001b[0m\u001b[0;34m\u001b[0m\u001b[0m\n\u001b[1;32m     91\u001b[0m \u001b[0;34m\u001b[0m\u001b[0m\n",
            "\u001b[0;32m<ipython-input-69-372cc961c67d>\u001b[0m in \u001b[0;36mtrain\u001b[0;34m(config, net, epoch, trainloader, testloader, criterion, optimizer, scheduler, device)\u001b[0m\n\u001b[1;32m     40\u001b[0m         \u001b[0mloss\u001b[0m \u001b[0;34m=\u001b[0m \u001b[0mcriterion\u001b[0m\u001b[0;34m(\u001b[0m\u001b[0mspk_rec2\u001b[0m\u001b[0;34m,\u001b[0m \u001b[0mlabels\u001b[0m\u001b[0;34m)\u001b[0m\u001b[0;34m\u001b[0m\u001b[0;34m\u001b[0m\u001b[0m\n\u001b[1;32m     41\u001b[0m         \u001b[0moptimizer\u001b[0m\u001b[0;34m.\u001b[0m\u001b[0mzero_grad\u001b[0m\u001b[0;34m(\u001b[0m\u001b[0;34m)\u001b[0m\u001b[0;34m\u001b[0m\u001b[0;34m\u001b[0m\u001b[0m\n\u001b[0;32m---> 42\u001b[0;31m         \u001b[0mloss\u001b[0m\u001b[0;34m.\u001b[0m\u001b[0mbackward\u001b[0m\u001b[0;34m(\u001b[0m\u001b[0;34m)\u001b[0m\u001b[0;34m\u001b[0m\u001b[0;34m\u001b[0m\u001b[0m\n\u001b[0m\u001b[1;32m     43\u001b[0m         \u001b[0;32mif\u001b[0m \u001b[0mloss_current\u001b[0m \u001b[0;32mis\u001b[0m \u001b[0;32mNone\u001b[0m\u001b[0;34m:\u001b[0m\u001b[0;34m\u001b[0m\u001b[0;34m\u001b[0m\u001b[0m\n\u001b[1;32m     44\u001b[0m             \u001b[0mloss_current\u001b[0m \u001b[0;34m=\u001b[0m \u001b[0mloss\u001b[0m\u001b[0;34m.\u001b[0m\u001b[0mitem\u001b[0m\u001b[0;34m(\u001b[0m\u001b[0;34m)\u001b[0m\u001b[0;34m\u001b[0m\u001b[0;34m\u001b[0m\u001b[0m\n",
            "\u001b[0;32m/usr/local/lib/python3.10/dist-packages/torch/_tensor.py\u001b[0m in \u001b[0;36mbackward\u001b[0;34m(self, gradient, retain_graph, create_graph, inputs)\u001b[0m\n\u001b[1;32m    485\u001b[0m                 \u001b[0minputs\u001b[0m\u001b[0;34m=\u001b[0m\u001b[0minputs\u001b[0m\u001b[0;34m,\u001b[0m\u001b[0;34m\u001b[0m\u001b[0;34m\u001b[0m\u001b[0m\n\u001b[1;32m    486\u001b[0m             )\n\u001b[0;32m--> 487\u001b[0;31m         torch.autograd.backward(\n\u001b[0m\u001b[1;32m    488\u001b[0m             \u001b[0mself\u001b[0m\u001b[0;34m,\u001b[0m \u001b[0mgradient\u001b[0m\u001b[0;34m,\u001b[0m \u001b[0mretain_graph\u001b[0m\u001b[0;34m,\u001b[0m \u001b[0mcreate_graph\u001b[0m\u001b[0;34m,\u001b[0m \u001b[0minputs\u001b[0m\u001b[0;34m=\u001b[0m\u001b[0minputs\u001b[0m\u001b[0;34m\u001b[0m\u001b[0;34m\u001b[0m\u001b[0m\n\u001b[1;32m    489\u001b[0m         )\n",
            "\u001b[0;32m/usr/local/lib/python3.10/dist-packages/torch/autograd/__init__.py\u001b[0m in \u001b[0;36mbackward\u001b[0;34m(tensors, grad_tensors, retain_graph, create_graph, grad_variables, inputs)\u001b[0m\n\u001b[1;32m    198\u001b[0m     \u001b[0;31m# some Python versions print out the first line of a multi-line function\u001b[0m\u001b[0;34m\u001b[0m\u001b[0;34m\u001b[0m\u001b[0m\n\u001b[1;32m    199\u001b[0m     \u001b[0;31m# calls in the traceback and some print out the last line\u001b[0m\u001b[0;34m\u001b[0m\u001b[0;34m\u001b[0m\u001b[0m\n\u001b[0;32m--> 200\u001b[0;31m     Variable._execution_engine.run_backward(  # Calls into the C++ engine to run the backward pass\n\u001b[0m\u001b[1;32m    201\u001b[0m         \u001b[0mtensors\u001b[0m\u001b[0;34m,\u001b[0m \u001b[0mgrad_tensors_\u001b[0m\u001b[0;34m,\u001b[0m \u001b[0mretain_graph\u001b[0m\u001b[0;34m,\u001b[0m \u001b[0mcreate_graph\u001b[0m\u001b[0;34m,\u001b[0m \u001b[0minputs\u001b[0m\u001b[0;34m,\u001b[0m\u001b[0;34m\u001b[0m\u001b[0;34m\u001b[0m\u001b[0m\n\u001b[1;32m    202\u001b[0m         allow_unreachable=True, accumulate_grad=True)  # Calls into the C++ engine to run the backward pass\n",
            "\u001b[0;31mKeyboardInterrupt\u001b[0m: "
          ]
        }
      ]
    },
    {
      "cell_type": "code",
      "source": [
        "cfg = config\n",
        "cfg['model'] = 'NetFC(config, [128, 128])'\n",
        "run(cfg)"
      ],
      "metadata": {
        "colab": {
          "base_uri": "https://localhost:8080/",
          "height": 1000
        },
        "id": "VbtywRM9nnTL",
        "outputId": "afdcfd6b-06db-460c-e251-2a6d410eee32"
      },
      "execution_count": null,
      "outputs": [
        {
          "metadata": {
            "tags": null
          },
          "name": "stdout",
          "output_type": "stream",
          "text": [
            "{'model': 'NetFC(config, [128, 128])', 'exp_name': 'mnist_tha', 'num_trials': 5, 'num_epochs': 500, 'binarize': True, 'data_dir': '~/data/mnist', 'batch_size': 128, 'seed': 0, 'num_workers': 0, 'save_csv': True, 'save_model': True, 'early_stopping': True, 'patience': 100, 'grad_clip': False, 'weight_clip': False, 'batch_norm': True, 'dropout1': 0.02856, 'beta': 0.99, 'lr': 0.00997, 'slope': 10.22, 'threshold1': 11.666, 'alpha_thr1': 0.024, 'thr_final1': 4.317, 'threshold2': 14.105, 'alpha_thr2': 0.119, 'thr_final2': 16.29, 'threshold3': 0.6656, 'alpha_thr3': 0.0011, 'thr_final3': 3.496, 'num_steps': 100, 'correct_rate': 0.8, 'incorrect_rate': 0.2, 'betas': (0.9, 0.999), 't_0': 4688, 'eta_min': 0, 'df_lr': True}\n",
            "NetFC(\n",
            "  (bfc1): SparseBinaryLinear(in_features=784, out_features=128, bias=True)\n",
            "  (fc1): Linear(in_features=784, out_features=128, bias=True)\n",
            "  (bn1): BatchNorm1d(128, eps=1e-05, momentum=0.1, affine=True, track_running_stats=True)\n",
            "  (lif1): Leaky()\n",
            "  (bfc2): SparseBinaryLinear(in_features=128, out_features=128, bias=True)\n",
            "  (fc2): Linear(in_features=128, out_features=128, bias=True)\n",
            "  (bn2): BatchNorm1d(128, eps=1e-05, momentum=0.1, affine=True, track_running_stats=True)\n",
            "  (lif2): Leaky()\n",
            "  (bfc3): BinaryLinear(in_features=128, out_features=10, bias=True)\n",
            "  (fc3): Linear(in_features=128, out_features=10, bias=True)\n",
            "  (lif3): Leaky()\n",
            "  (dropout): Dropout(p=0.02856, inplace=False)\n",
            ")\n",
            "Downloading http://yann.lecun.com/exdb/mnist/train-images-idx3-ubyte.gz\n",
            "Downloading http://yann.lecun.com/exdb/mnist/train-images-idx3-ubyte.gz to /root/data/mnist/MNIST/raw/train-images-idx3-ubyte.gz\n"
          ]
        },
        {
          "metadata": {
            "tags": null
          },
          "name": "stderr",
          "output_type": "stream",
          "text": [
            "100%|██████████| 9912422/9912422 [00:00<00:00, 81587872.50it/s]\n"
          ]
        },
        {
          "metadata": {
            "tags": null
          },
          "name": "stdout",
          "output_type": "stream",
          "text": [
            "Extracting /root/data/mnist/MNIST/raw/train-images-idx3-ubyte.gz to /root/data/mnist/MNIST/raw\n",
            "\n",
            "Downloading http://yann.lecun.com/exdb/mnist/train-labels-idx1-ubyte.gz\n",
            "Downloading http://yann.lecun.com/exdb/mnist/train-labels-idx1-ubyte.gz to /root/data/mnist/MNIST/raw/train-labels-idx1-ubyte.gz\n"
          ]
        },
        {
          "metadata": {
            "tags": null
          },
          "name": "stderr",
          "output_type": "stream",
          "text": [
            "100%|██████████| 28881/28881 [00:00<00:00, 102831658.59it/s]"
          ]
        },
        {
          "metadata": {
            "tags": null
          },
          "name": "stdout",
          "output_type": "stream",
          "text": [
            "Extracting /root/data/mnist/MNIST/raw/train-labels-idx1-ubyte.gz to /root/data/mnist/MNIST/raw\n",
            "\n",
            "Downloading http://yann.lecun.com/exdb/mnist/t10k-images-idx3-ubyte.gz\n",
            "Downloading http://yann.lecun.com/exdb/mnist/t10k-images-idx3-ubyte.gz to /root/data/mnist/MNIST/raw/t10k-images-idx3-ubyte.gz\n"
          ]
        },
        {
          "metadata": {
            "tags": null
          },
          "name": "stderr",
          "output_type": "stream",
          "text": [
            "\n",
            "100%|██████████| 1648877/1648877 [00:00<00:00, 20970082.89it/s]\n"
          ]
        },
        {
          "metadata": {
            "tags": null
          },
          "name": "stdout",
          "output_type": "stream",
          "text": [
            "Extracting /root/data/mnist/MNIST/raw/t10k-images-idx3-ubyte.gz to /root/data/mnist/MNIST/raw\n",
            "\n",
            "Downloading http://yann.lecun.com/exdb/mnist/t10k-labels-idx1-ubyte.gz\n",
            "Downloading http://yann.lecun.com/exdb/mnist/t10k-labels-idx1-ubyte.gz to /root/data/mnist/MNIST/raw/t10k-labels-idx1-ubyte.gz\n"
          ]
        },
        {
          "metadata": {
            "tags": null
          },
          "name": "stderr",
          "output_type": "stream",
          "text": [
            "100%|██████████| 4542/4542 [00:00<00:00, 6998724.75it/s]\n"
          ]
        },
        {
          "metadata": {
            "tags": null
          },
          "name": "stdout",
          "output_type": "stream",
          "text": [
            "Extracting /root/data/mnist/MNIST/raw/t10k-labels-idx1-ubyte.gz to /root/data/mnist/MNIST/raw\n",
            "\n",
            "=======Trial: 0=======\n"
          ]
        },
        {
          "metadata": {
            "tags": null
          },
          "name": "stderr",
          "output_type": "stream",
          "text": [
            "loss: 0.8217: 100%|██████████| 469/469 [02:45<00:00,  2.84it/s]\n"
          ]
        },
        {
          "metadata": {
            "tags": null
          },
          "name": "stdout",
          "output_type": "stream",
          "text": [
            "Epoch: 0 \tTest Accuracy: 93.57\n",
            "Test acc increased (0.000000 --> 93.570000).  Saving model ...\n"
          ]
        },
        {
          "metadata": {
            "tags": null
          },
          "name": "stderr",
          "output_type": "stream",
          "text": [
            "loss: 0.7384: 100%|██████████| 469/469 [02:41<00:00,  2.91it/s]\n"
          ]
        },
        {
          "metadata": {
            "tags": null
          },
          "name": "stdout",
          "output_type": "stream",
          "text": [
            "Epoch: 1 \tTest Accuracy: 94.28\n",
            "Test acc increased (93.570000 --> 94.280000).  Saving model ...\n"
          ]
        },
        {
          "metadata": {
            "tags": null
          },
          "name": "stderr",
          "output_type": "stream",
          "text": [
            "loss: 0.7035: 100%|██████████| 469/469 [02:40<00:00,  2.92it/s]\n"
          ]
        },
        {
          "metadata": {
            "tags": null
          },
          "name": "stdout",
          "output_type": "stream",
          "text": [
            "Epoch: 2 \tTest Accuracy: 94.8\n",
            "Test acc increased (94.280000 --> 94.800000).  Saving model ...\n"
          ]
        },
        {
          "metadata": {
            "tags": null
          },
          "name": "stderr",
          "output_type": "stream",
          "text": [
            "loss: 0.6322: 100%|██████████| 469/469 [02:40<00:00,  2.92it/s]\n"
          ]
        },
        {
          "metadata": {
            "tags": null
          },
          "name": "stdout",
          "output_type": "stream",
          "text": [
            "Epoch: 3 \tTest Accuracy: 94.93\n",
            "Test acc increased (94.800000 --> 94.930000).  Saving model ...\n"
          ]
        },
        {
          "metadata": {
            "tags": null
          },
          "name": "stderr",
          "output_type": "stream",
          "text": [
            "loss: 0.5964: 100%|██████████| 469/469 [02:40<00:00,  2.92it/s]\n"
          ]
        },
        {
          "metadata": {
            "tags": null
          },
          "name": "stdout",
          "output_type": "stream",
          "text": [
            "Epoch: 4 \tTest Accuracy: 94.57\n",
            "EarlyStopping counter: 1 out of 100\n"
          ]
        },
        {
          "metadata": {
            "tags": null
          },
          "name": "stderr",
          "output_type": "stream",
          "text": [
            "loss: 0.6028: 100%|██████████| 469/469 [02:40<00:00,  2.92it/s]\n"
          ]
        },
        {
          "metadata": {
            "tags": null
          },
          "name": "stdout",
          "output_type": "stream",
          "text": [
            "Epoch: 5 \tTest Accuracy: 95.05\n",
            "Test acc increased (94.930000 --> 95.050000).  Saving model ...\n"
          ]
        },
        {
          "metadata": {
            "tags": null
          },
          "name": "stderr",
          "output_type": "stream",
          "text": [
            "loss: 0.5782: 100%|██████████| 469/469 [02:42<00:00,  2.88it/s]\n"
          ]
        },
        {
          "metadata": {
            "tags": null
          },
          "name": "stdout",
          "output_type": "stream",
          "text": [
            "Epoch: 6 \tTest Accuracy: 95.6\n",
            "Test acc increased (95.050000 --> 95.600000).  Saving model ...\n"
          ]
        },
        {
          "metadata": {
            "tags": null
          },
          "name": "stderr",
          "output_type": "stream",
          "text": [
            "loss: 0.5397: 100%|██████████| 469/469 [02:42<00:00,  2.89it/s]\n"
          ]
        },
        {
          "metadata": {
            "tags": null
          },
          "name": "stdout",
          "output_type": "stream",
          "text": [
            "Epoch: 7 \tTest Accuracy: 95.74\n",
            "Test acc increased (95.600000 --> 95.740000).  Saving model ...\n"
          ]
        },
        {
          "metadata": {
            "tags": null
          },
          "name": "stderr",
          "output_type": "stream",
          "text": [
            "loss: 0.5119: 100%|██████████| 469/469 [02:40<00:00,  2.92it/s]\n"
          ]
        },
        {
          "metadata": {
            "tags": null
          },
          "name": "stdout",
          "output_type": "stream",
          "text": [
            "Epoch: 8 \tTest Accuracy: 95.81\n",
            "Test acc increased (95.740000 --> 95.810000).  Saving model ...\n"
          ]
        },
        {
          "metadata": {
            "tags": null
          },
          "name": "stderr",
          "output_type": "stream",
          "text": [
            "loss: 0.4337: 100%|██████████| 469/469 [02:35<00:00,  3.02it/s]\n"
          ]
        },
        {
          "metadata": {
            "tags": null
          },
          "name": "stdout",
          "output_type": "stream",
          "text": [
            "Epoch: 9 \tTest Accuracy: 96.15\n",
            "Test acc increased (95.810000 --> 96.150000).  Saving model ...\n"
          ]
        },
        {
          "output_type": "stream",
          "name": "stderr",
          "text": [
            "loss: 0.5021: 100%|██████████| 469/469 [02:34<00:00,  3.04it/s]\n"
          ]
        },
        {
          "output_type": "stream",
          "name": "stdout",
          "text": [
            "Epoch: 10 \tTest Accuracy: 96.11\n",
            "EarlyStopping counter: 1 out of 100\n"
          ]
        },
        {
          "output_type": "stream",
          "name": "stderr",
          "text": [
            "loss: 0.5650:   7%|▋         | 34/469 [00:11<02:25,  2.99it/s]\n"
          ]
        },
        {
          "output_type": "error",
          "ename": "KeyboardInterrupt",
          "evalue": "ignored",
          "traceback": [
            "\u001b[0;31m---------------------------------------------------------------------------\u001b[0m",
            "\u001b[0;31mKeyboardInterrupt\u001b[0m                         Traceback (most recent call last)",
            "\u001b[0;32m<ipython-input-13-24c289a1983d>\u001b[0m in \u001b[0;36m<cell line: 3>\u001b[0;34m()\u001b[0m\n\u001b[1;32m      1\u001b[0m \u001b[0mcfg\u001b[0m \u001b[0;34m=\u001b[0m \u001b[0mconfig\u001b[0m\u001b[0;34m\u001b[0m\u001b[0;34m\u001b[0m\u001b[0m\n\u001b[1;32m      2\u001b[0m \u001b[0mcfg\u001b[0m\u001b[0;34m[\u001b[0m\u001b[0;34m'model'\u001b[0m\u001b[0;34m]\u001b[0m \u001b[0;34m=\u001b[0m \u001b[0;34m'NetFC(config, [128, 128])'\u001b[0m\u001b[0;34m\u001b[0m\u001b[0;34m\u001b[0m\u001b[0m\n\u001b[0;32m----> 3\u001b[0;31m \u001b[0mrun\u001b[0m\u001b[0;34m(\u001b[0m\u001b[0mcfg\u001b[0m\u001b[0;34m)\u001b[0m\u001b[0;34m\u001b[0m\u001b[0;34m\u001b[0m\u001b[0m\n\u001b[0m",
            "\u001b[0;32m<ipython-input-11-3dc18556cfc4>\u001b[0m in \u001b[0;36mrun\u001b[0;34m(config)\u001b[0m\n\u001b[1;32m     87\u001b[0m             \u001b[0;31m# train\u001b[0m\u001b[0;34m\u001b[0m\u001b[0;34m\u001b[0m\u001b[0m\n\u001b[1;32m     88\u001b[0m             \u001b[0mstart_time\u001b[0m \u001b[0;34m=\u001b[0m \u001b[0mtime\u001b[0m\u001b[0;34m.\u001b[0m\u001b[0mtime\u001b[0m\u001b[0;34m(\u001b[0m\u001b[0;34m)\u001b[0m\u001b[0;34m\u001b[0m\u001b[0;34m\u001b[0m\u001b[0m\n\u001b[0;32m---> 89\u001b[0;31m             \u001b[0mloss_list\u001b[0m\u001b[0;34m,\u001b[0m \u001b[0mlr_list\u001b[0m \u001b[0;34m=\u001b[0m \u001b[0mtrain\u001b[0m\u001b[0;34m(\u001b[0m\u001b[0mconfig\u001b[0m\u001b[0;34m,\u001b[0m \u001b[0mnet\u001b[0m\u001b[0;34m,\u001b[0m \u001b[0mepoch\u001b[0m\u001b[0;34m,\u001b[0m \u001b[0mtrainloader\u001b[0m\u001b[0;34m,\u001b[0m \u001b[0mtestloader\u001b[0m\u001b[0;34m,\u001b[0m \u001b[0mcriterion\u001b[0m\u001b[0;34m,\u001b[0m \u001b[0moptimizer\u001b[0m\u001b[0;34m,\u001b[0m \u001b[0mscheduler\u001b[0m\u001b[0;34m,\u001b[0m \u001b[0mdevice\u001b[0m\u001b[0;34m)\u001b[0m\u001b[0;34m\u001b[0m\u001b[0;34m\u001b[0m\u001b[0m\n\u001b[0m\u001b[1;32m     90\u001b[0m             \u001b[0mepoch_time\u001b[0m \u001b[0;34m=\u001b[0m \u001b[0mtime\u001b[0m\u001b[0;34m.\u001b[0m\u001b[0mtime\u001b[0m\u001b[0;34m(\u001b[0m\u001b[0;34m)\u001b[0m \u001b[0;34m-\u001b[0m \u001b[0mstart_time\u001b[0m\u001b[0;34m\u001b[0m\u001b[0;34m\u001b[0m\u001b[0m\n\u001b[1;32m     91\u001b[0m \u001b[0;34m\u001b[0m\u001b[0m\n",
            "\u001b[0;32m<ipython-input-10-372cc961c67d>\u001b[0m in \u001b[0;36mtrain\u001b[0;34m(config, net, epoch, trainloader, testloader, criterion, optimizer, scheduler, device)\u001b[0m\n\u001b[1;32m     40\u001b[0m         \u001b[0mloss\u001b[0m \u001b[0;34m=\u001b[0m \u001b[0mcriterion\u001b[0m\u001b[0;34m(\u001b[0m\u001b[0mspk_rec2\u001b[0m\u001b[0;34m,\u001b[0m \u001b[0mlabels\u001b[0m\u001b[0;34m)\u001b[0m\u001b[0;34m\u001b[0m\u001b[0;34m\u001b[0m\u001b[0m\n\u001b[1;32m     41\u001b[0m         \u001b[0moptimizer\u001b[0m\u001b[0;34m.\u001b[0m\u001b[0mzero_grad\u001b[0m\u001b[0;34m(\u001b[0m\u001b[0;34m)\u001b[0m\u001b[0;34m\u001b[0m\u001b[0;34m\u001b[0m\u001b[0m\n\u001b[0;32m---> 42\u001b[0;31m         \u001b[0mloss\u001b[0m\u001b[0;34m.\u001b[0m\u001b[0mbackward\u001b[0m\u001b[0;34m(\u001b[0m\u001b[0;34m)\u001b[0m\u001b[0;34m\u001b[0m\u001b[0;34m\u001b[0m\u001b[0m\n\u001b[0m\u001b[1;32m     43\u001b[0m         \u001b[0;32mif\u001b[0m \u001b[0mloss_current\u001b[0m \u001b[0;32mis\u001b[0m \u001b[0;32mNone\u001b[0m\u001b[0;34m:\u001b[0m\u001b[0;34m\u001b[0m\u001b[0;34m\u001b[0m\u001b[0m\n\u001b[1;32m     44\u001b[0m             \u001b[0mloss_current\u001b[0m \u001b[0;34m=\u001b[0m \u001b[0mloss\u001b[0m\u001b[0;34m.\u001b[0m\u001b[0mitem\u001b[0m\u001b[0;34m(\u001b[0m\u001b[0;34m)\u001b[0m\u001b[0;34m\u001b[0m\u001b[0;34m\u001b[0m\u001b[0m\n",
            "\u001b[0;32m/usr/local/lib/python3.10/dist-packages/torch/_tensor.py\u001b[0m in \u001b[0;36mbackward\u001b[0;34m(self, gradient, retain_graph, create_graph, inputs)\u001b[0m\n\u001b[1;32m    485\u001b[0m                 \u001b[0minputs\u001b[0m\u001b[0;34m=\u001b[0m\u001b[0minputs\u001b[0m\u001b[0;34m,\u001b[0m\u001b[0;34m\u001b[0m\u001b[0;34m\u001b[0m\u001b[0m\n\u001b[1;32m    486\u001b[0m             )\n\u001b[0;32m--> 487\u001b[0;31m         torch.autograd.backward(\n\u001b[0m\u001b[1;32m    488\u001b[0m             \u001b[0mself\u001b[0m\u001b[0;34m,\u001b[0m \u001b[0mgradient\u001b[0m\u001b[0;34m,\u001b[0m \u001b[0mretain_graph\u001b[0m\u001b[0;34m,\u001b[0m \u001b[0mcreate_graph\u001b[0m\u001b[0;34m,\u001b[0m \u001b[0minputs\u001b[0m\u001b[0;34m=\u001b[0m\u001b[0minputs\u001b[0m\u001b[0;34m\u001b[0m\u001b[0;34m\u001b[0m\u001b[0m\n\u001b[1;32m    489\u001b[0m         )\n",
            "\u001b[0;32m/usr/local/lib/python3.10/dist-packages/torch/autograd/__init__.py\u001b[0m in \u001b[0;36mbackward\u001b[0;34m(tensors, grad_tensors, retain_graph, create_graph, grad_variables, inputs)\u001b[0m\n\u001b[1;32m    198\u001b[0m     \u001b[0;31m# some Python versions print out the first line of a multi-line function\u001b[0m\u001b[0;34m\u001b[0m\u001b[0;34m\u001b[0m\u001b[0m\n\u001b[1;32m    199\u001b[0m     \u001b[0;31m# calls in the traceback and some print out the last line\u001b[0m\u001b[0;34m\u001b[0m\u001b[0;34m\u001b[0m\u001b[0m\n\u001b[0;32m--> 200\u001b[0;31m     Variable._execution_engine.run_backward(  # Calls into the C++ engine to run the backward pass\n\u001b[0m\u001b[1;32m    201\u001b[0m         \u001b[0mtensors\u001b[0m\u001b[0;34m,\u001b[0m \u001b[0mgrad_tensors_\u001b[0m\u001b[0;34m,\u001b[0m \u001b[0mretain_graph\u001b[0m\u001b[0;34m,\u001b[0m \u001b[0mcreate_graph\u001b[0m\u001b[0;34m,\u001b[0m \u001b[0minputs\u001b[0m\u001b[0;34m,\u001b[0m\u001b[0;34m\u001b[0m\u001b[0;34m\u001b[0m\u001b[0m\n\u001b[1;32m    202\u001b[0m         allow_unreachable=True, accumulate_grad=True)  # Calls into the C++ engine to run the backward pass\n",
            "\u001b[0;31mKeyboardInterrupt\u001b[0m: "
          ]
        }
      ]
    },
    {
      "cell_type": "code",
      "source": [
        "binarize = BinarizeAnsSparsifyF.apply; print(binarize)\n",
        "cfg = config\n",
        "cfg['model'] = 'NetFC(config, [128, 128])'\n",
        "run(cfg)\n",
        "binarize = BinarizeF.apply"
      ],
      "metadata": {
        "colab": {
          "base_uri": "https://localhost:8080/"
        },
        "id": "SGVOSKy1hDOc",
        "outputId": "f0012404-2b00-48c4-c3e1-58f430e5cf13"
      },
      "execution_count": null,
      "outputs": [
        {
          "metadata": {
            "tags": null
          },
          "name": "stdout",
          "output_type": "stream",
          "text": [
            "<bound method Function.apply of <class '__main__.BinarizeAnsSparsifyF'>>\n",
            "{'model': 'NetFC(config, [128, 128])', 'exp_name': 'mnist_tha', 'num_trials': 5, 'num_epochs': 500, 'binarize': True, 'data_dir': '~/data/mnist', 'batch_size': 128, 'seed': 0, 'num_workers': 0, 'save_csv': True, 'save_model': True, 'early_stopping': True, 'patience': 100, 'grad_clip': False, 'weight_clip': False, 'batch_norm': True, 'dropout1': 0.02856, 'beta': 0.99, 'lr': 0.00997, 'slope': 10.22, 'threshold1': 11.666, 'alpha_thr1': 0.024, 'thr_final1': 132.64299999999997, 'threshold2': 14.105, 'alpha_thr2': 0.119, 'thr_final2': 171.445, 'threshold3': 0.6656, 'alpha_thr3': 0.0011, 'thr_final3': 10.817599999999995, 'num_steps': 100, 'correct_rate': 0.8, 'incorrect_rate': 0.2, 'betas': (0.9, 0.999), 't_0': 4688, 'eta_min': 0, 'df_lr': True, 'dataset_length': 60000}\n",
            "NetFC(\n",
            "  (bfc1): BinaryLinear(in_features=784, out_features=128, bias=True)\n",
            "  (fc1): Linear(in_features=784, out_features=128, bias=True)\n",
            "  (bn1): BatchNorm1d(128, eps=1e-05, momentum=0.1, affine=True, track_running_stats=True)\n",
            "  (lif1): Leaky()\n",
            "  (bfc2): BinaryLinear(in_features=128, out_features=128, bias=True)\n",
            "  (fc2): Linear(in_features=128, out_features=128, bias=True)\n",
            "  (bn2): BatchNorm1d(128, eps=1e-05, momentum=0.1, affine=True, track_running_stats=True)\n",
            "  (lif2): Leaky()\n",
            "  (bfc3): BinaryLinear(in_features=128, out_features=10, bias=True)\n",
            "  (fc3): Linear(in_features=128, out_features=10, bias=True)\n",
            "  (lif3): Leaky()\n",
            "  (dropout): Dropout(p=0.02856, inplace=False)\n",
            ")\n",
            "=======Trial: 0=======\n"
          ]
        },
        {
          "metadata": {
            "tags": null
          },
          "name": "stderr",
          "output_type": "stream",
          "text": [
            "loss: 3.1639: 100%|██████████| 469/469 [02:50<00:00,  2.76it/s]\n"
          ]
        },
        {
          "metadata": {
            "tags": null
          },
          "name": "stdout",
          "output_type": "stream",
          "text": [
            "Epoch: 0 \tTest Accuracy: 19.18\n",
            "Test acc increased (0.000000 --> 19.180000).  Saving model ...\n"
          ]
        },
        {
          "metadata": {
            "tags": null
          },
          "name": "stderr",
          "output_type": "stream",
          "text": [
            "loss: 2.9104: 100%|██████████| 469/469 [02:48<00:00,  2.78it/s]\n"
          ]
        },
        {
          "metadata": {
            "tags": null
          },
          "name": "stdout",
          "output_type": "stream",
          "text": [
            "Epoch: 1 \tTest Accuracy: 50.52\n",
            "Test acc increased (19.180000 --> 50.520000).  Saving model ...\n"
          ]
        },
        {
          "metadata": {
            "tags": null
          },
          "name": "stderr",
          "output_type": "stream",
          "text": [
            "loss: 2.6256: 100%|██████████| 469/469 [02:46<00:00,  2.82it/s]\n"
          ]
        },
        {
          "metadata": {
            "tags": null
          },
          "name": "stdout",
          "output_type": "stream",
          "text": [
            "Epoch: 2 \tTest Accuracy: 63.73\n",
            "Test acc increased (50.520000 --> 63.730000).  Saving model ...\n"
          ]
        },
        {
          "metadata": {
            "tags": null
          },
          "name": "stderr",
          "output_type": "stream",
          "text": [
            "loss: 2.4258: 100%|██████████| 469/469 [02:44<00:00,  2.85it/s]\n"
          ]
        },
        {
          "metadata": {
            "tags": null
          },
          "name": "stdout",
          "output_type": "stream",
          "text": [
            "Epoch: 3 \tTest Accuracy: 69.65\n",
            "Test acc increased (63.730000 --> 69.650000).  Saving model ...\n"
          ]
        },
        {
          "metadata": {
            "tags": null
          },
          "name": "stderr",
          "output_type": "stream",
          "text": [
            "loss: 2.3231: 100%|██████████| 469/469 [02:46<00:00,  2.82it/s]\n"
          ]
        },
        {
          "metadata": {
            "tags": null
          },
          "name": "stdout",
          "output_type": "stream",
          "text": [
            "Epoch: 4 \tTest Accuracy: 67.64\n",
            "EarlyStopping counter: 1 out of 100\n"
          ]
        },
        {
          "metadata": {
            "tags": null
          },
          "name": "stderr",
          "output_type": "stream",
          "text": [
            "loss: 2.2189: 100%|██████████| 469/469 [02:44<00:00,  2.85it/s]\n"
          ]
        },
        {
          "metadata": {
            "tags": null
          },
          "name": "stdout",
          "output_type": "stream",
          "text": [
            "Epoch: 5 \tTest Accuracy: 72.19\n",
            "Test acc increased (69.650000 --> 72.190000).  Saving model ...\n"
          ]
        },
        {
          "metadata": {
            "tags": null
          },
          "name": "stderr",
          "output_type": "stream",
          "text": [
            "loss: 2.1478: 100%|██████████| 469/469 [02:44<00:00,  2.85it/s]\n"
          ]
        },
        {
          "metadata": {
            "tags": null
          },
          "name": "stdout",
          "output_type": "stream",
          "text": [
            "Epoch: 6 \tTest Accuracy: 72.03\n",
            "EarlyStopping counter: 1 out of 100\n"
          ]
        },
        {
          "metadata": {
            "tags": null
          },
          "name": "stderr",
          "output_type": "stream",
          "text": [
            "loss: 2.1336: 100%|██████████| 469/469 [02:44<00:00,  2.85it/s]\n"
          ]
        },
        {
          "metadata": {
            "tags": null
          },
          "name": "stdout",
          "output_type": "stream",
          "text": [
            "Epoch: 7 \tTest Accuracy: 71.62\n",
            "EarlyStopping counter: 2 out of 100\n"
          ]
        },
        {
          "metadata": {
            "tags": null
          },
          "name": "stderr",
          "output_type": "stream",
          "text": [
            "loss: 2.1269: 100%|██████████| 469/469 [02:46<00:00,  2.83it/s]\n"
          ]
        },
        {
          "metadata": {
            "tags": null
          },
          "name": "stdout",
          "output_type": "stream",
          "text": [
            "Epoch: 8 \tTest Accuracy: 72.59\n",
            "Test acc increased (72.190000 --> 72.590000).  Saving model ...\n"
          ]
        },
        {
          "metadata": {
            "tags": null
          },
          "name": "stderr",
          "output_type": "stream",
          "text": [
            "loss: 2.1047: 100%|██████████| 469/469 [02:42<00:00,  2.89it/s]\n"
          ]
        },
        {
          "metadata": {
            "tags": null
          },
          "name": "stdout",
          "output_type": "stream",
          "text": [
            "Epoch: 9 \tTest Accuracy: 73.29\n",
            "Test acc increased (72.590000 --> 73.290000).  Saving model ...\n"
          ]
        },
        {
          "metadata": {
            "tags": null
          },
          "name": "stderr",
          "output_type": "stream",
          "text": [
            "loss: 2.1254: 100%|██████████| 469/469 [02:42<00:00,  2.89it/s]\n"
          ]
        },
        {
          "metadata": {
            "tags": null
          },
          "name": "stdout",
          "output_type": "stream",
          "text": [
            "Epoch: 10 \tTest Accuracy: 73.38\n",
            "Test acc increased (73.290000 --> 73.380000).  Saving model ...\n"
          ]
        },
        {
          "metadata": {
            "tags": null
          },
          "name": "stderr",
          "output_type": "stream",
          "text": [
            "loss: 2.1354: 100%|██████████| 469/469 [02:41<00:00,  2.90it/s]\n"
          ]
        },
        {
          "metadata": {
            "tags": null
          },
          "name": "stdout",
          "output_type": "stream",
          "text": [
            "Epoch: 11 \tTest Accuracy: 71.16\n",
            "EarlyStopping counter: 1 out of 100\n"
          ]
        },
        {
          "metadata": {
            "tags": null
          },
          "name": "stderr",
          "output_type": "stream",
          "text": [
            "loss: 2.0641: 100%|██████████| 469/469 [02:42<00:00,  2.89it/s]\n"
          ]
        },
        {
          "metadata": {
            "tags": null
          },
          "name": "stdout",
          "output_type": "stream",
          "text": [
            "Epoch: 12 \tTest Accuracy: 72.75\n",
            "EarlyStopping counter: 2 out of 100\n"
          ]
        },
        {
          "metadata": {
            "tags": null
          },
          "name": "stderr",
          "output_type": "stream",
          "text": [
            "loss: 1.9617: 100%|██████████| 469/469 [02:43<00:00,  2.87it/s]\n"
          ]
        },
        {
          "metadata": {
            "tags": null
          },
          "name": "stdout",
          "output_type": "stream",
          "text": [
            "Epoch: 13 \tTest Accuracy: 72.59\n",
            "EarlyStopping counter: 3 out of 100\n"
          ]
        },
        {
          "metadata": {
            "tags": null
          },
          "name": "stderr",
          "output_type": "stream",
          "text": [
            "loss: 1.7518: 100%|██████████| 469/469 [02:41<00:00,  2.90it/s]\n"
          ]
        },
        {
          "metadata": {
            "tags": null
          },
          "name": "stdout",
          "output_type": "stream",
          "text": [
            "Epoch: 14 \tTest Accuracy: 73.98\n",
            "Test acc increased (73.380000 --> 73.980000).  Saving model ...\n"
          ]
        },
        {
          "metadata": {
            "tags": null
          },
          "name": "stderr",
          "output_type": "stream",
          "text": [
            "loss: 1.5294: 100%|██████████| 469/469 [02:41<00:00,  2.91it/s]\n"
          ]
        },
        {
          "metadata": {
            "tags": null
          },
          "name": "stdout",
          "output_type": "stream",
          "text": [
            "Epoch: 15 \tTest Accuracy: 74.77\n",
            "Test acc increased (73.980000 --> 74.770000).  Saving model ...\n"
          ]
        },
        {
          "metadata": {
            "tags": null
          },
          "name": "stderr",
          "output_type": "stream",
          "text": [
            "loss: 1.2905: 100%|██████████| 469/469 [02:43<00:00,  2.87it/s]\n"
          ]
        },
        {
          "metadata": {
            "tags": null
          },
          "name": "stdout",
          "output_type": "stream",
          "text": [
            "Epoch: 16 \tTest Accuracy: 87.52\n",
            "Test acc increased (74.770000 --> 87.520000).  Saving model ...\n"
          ]
        },
        {
          "metadata": {
            "tags": null
          },
          "name": "stderr",
          "output_type": "stream",
          "text": [
            "loss: 1.0854: 100%|██████████| 469/469 [02:41<00:00,  2.90it/s]\n"
          ]
        },
        {
          "metadata": {
            "tags": null
          },
          "name": "stdout",
          "output_type": "stream",
          "text": [
            "Epoch: 17 \tTest Accuracy: 90.2\n",
            "Test acc increased (87.520000 --> 90.200000).  Saving model ...\n"
          ]
        },
        {
          "metadata": {
            "tags": null
          },
          "name": "stderr",
          "output_type": "stream",
          "text": [
            "loss: 0.9083: 100%|██████████| 469/469 [02:43<00:00,  2.87it/s]\n"
          ]
        },
        {
          "metadata": {
            "tags": null
          },
          "name": "stdout",
          "output_type": "stream",
          "text": [
            "Epoch: 18 \tTest Accuracy: 90.07\n",
            "EarlyStopping counter: 1 out of 100\n"
          ]
        },
        {
          "metadata": {
            "tags": null
          },
          "name": "stderr",
          "output_type": "stream",
          "text": [
            "loss: 0.7851: 100%|██████████| 469/469 [02:44<00:00,  2.84it/s]\n"
          ]
        },
        {
          "metadata": {
            "tags": null
          },
          "name": "stdout",
          "output_type": "stream",
          "text": [
            "Epoch: 19 \tTest Accuracy: 91.35\n",
            "Test acc increased (90.200000 --> 91.350000).  Saving model ...\n"
          ]
        },
        {
          "metadata": {
            "tags": null
          },
          "name": "stderr",
          "output_type": "stream",
          "text": [
            "loss: 0.7478: 100%|██████████| 469/469 [02:41<00:00,  2.90it/s]\n"
          ]
        },
        {
          "metadata": {
            "tags": null
          },
          "name": "stdout",
          "output_type": "stream",
          "text": [
            "Epoch: 20 \tTest Accuracy: 90.61\n",
            "EarlyStopping counter: 1 out of 100\n"
          ]
        },
        {
          "metadata": {
            "tags": null
          },
          "name": "stderr",
          "output_type": "stream",
          "text": [
            "loss: 0.7122: 100%|██████████| 469/469 [02:41<00:00,  2.91it/s]\n"
          ]
        },
        {
          "metadata": {
            "tags": null
          },
          "name": "stdout",
          "output_type": "stream",
          "text": [
            "Epoch: 21 \tTest Accuracy: 91.9\n",
            "Test acc increased (91.350000 --> 91.900000).  Saving model ...\n"
          ]
        },
        {
          "metadata": {
            "tags": null
          },
          "name": "stderr",
          "output_type": "stream",
          "text": [
            "loss: 0.7341: 100%|██████████| 469/469 [02:44<00:00,  2.86it/s]\n"
          ]
        },
        {
          "metadata": {
            "tags": null
          },
          "name": "stdout",
          "output_type": "stream",
          "text": [
            "Epoch: 22 \tTest Accuracy: 91.52\n",
            "EarlyStopping counter: 1 out of 100\n"
          ]
        },
        {
          "metadata": {
            "tags": null
          },
          "name": "stderr",
          "output_type": "stream",
          "text": [
            "loss: 0.7067: 100%|██████████| 469/469 [02:44<00:00,  2.86it/s]\n"
          ]
        },
        {
          "metadata": {
            "tags": null
          },
          "name": "stdout",
          "output_type": "stream",
          "text": [
            "Epoch: 23 \tTest Accuracy: 92.7\n",
            "Test acc increased (91.900000 --> 92.700000).  Saving model ...\n"
          ]
        },
        {
          "metadata": {
            "tags": null
          },
          "name": "stderr",
          "output_type": "stream",
          "text": [
            "loss: 0.6618: 100%|██████████| 469/469 [02:45<00:00,  2.84it/s]\n"
          ]
        },
        {
          "metadata": {
            "tags": null
          },
          "name": "stdout",
          "output_type": "stream",
          "text": [
            "Epoch: 24 \tTest Accuracy: 92.98\n",
            "Test acc increased (92.700000 --> 92.980000).  Saving model ...\n"
          ]
        },
        {
          "metadata": {
            "tags": null
          },
          "name": "stderr",
          "output_type": "stream",
          "text": [
            "loss: 0.6329: 100%|██████████| 469/469 [02:42<00:00,  2.89it/s]\n"
          ]
        },
        {
          "metadata": {
            "tags": null
          },
          "name": "stdout",
          "output_type": "stream",
          "text": [
            "Epoch: 25 \tTest Accuracy: 93.25\n",
            "Test acc increased (92.980000 --> 93.250000).  Saving model ...\n"
          ]
        },
        {
          "metadata": {
            "tags": null
          },
          "name": "stderr",
          "output_type": "stream",
          "text": [
            "loss: 0.6487: 100%|██████████| 469/469 [02:43<00:00,  2.88it/s]\n"
          ]
        },
        {
          "metadata": {
            "tags": null
          },
          "name": "stdout",
          "output_type": "stream",
          "text": [
            "Epoch: 26 \tTest Accuracy: 93.6\n",
            "Test acc increased (93.250000 --> 93.600000).  Saving model ...\n"
          ]
        },
        {
          "metadata": {
            "tags": null
          },
          "name": "stderr",
          "output_type": "stream",
          "text": [
            "loss: 0.5709: 100%|██████████| 469/469 [02:43<00:00,  2.88it/s]\n"
          ]
        },
        {
          "metadata": {
            "tags": null
          },
          "name": "stdout",
          "output_type": "stream",
          "text": [
            "Epoch: 27 \tTest Accuracy: 94.17\n",
            "Test acc increased (93.600000 --> 94.170000).  Saving model ...\n"
          ]
        },
        {
          "metadata": {
            "tags": null
          },
          "name": "stderr",
          "output_type": "stream",
          "text": [
            "loss: 0.5760: 100%|██████████| 469/469 [02:42<00:00,  2.88it/s]\n"
          ]
        },
        {
          "metadata": {
            "tags": null
          },
          "name": "stdout",
          "output_type": "stream",
          "text": [
            "Epoch: 28 \tTest Accuracy: 93.74\n",
            "EarlyStopping counter: 1 out of 100\n"
          ]
        },
        {
          "metadata": {
            "tags": null
          },
          "name": "stderr",
          "output_type": "stream",
          "text": [
            "loss: 0.6159: 100%|██████████| 469/469 [02:43<00:00,  2.86it/s]\n"
          ]
        },
        {
          "metadata": {
            "tags": null
          },
          "name": "stdout",
          "output_type": "stream",
          "text": [
            "Epoch: 29 \tTest Accuracy: 93.53\n",
            "EarlyStopping counter: 2 out of 100\n"
          ]
        },
        {
          "metadata": {
            "tags": null
          },
          "name": "stderr",
          "output_type": "stream",
          "text": [
            "loss: 0.6306: 100%|██████████| 469/469 [02:43<00:00,  2.87it/s]\n"
          ]
        },
        {
          "metadata": {
            "tags": null
          },
          "name": "stdout",
          "output_type": "stream",
          "text": [
            "Epoch: 30 \tTest Accuracy: 93.45\n",
            "EarlyStopping counter: 3 out of 100\n"
          ]
        },
        {
          "metadata": {
            "tags": null
          },
          "name": "stderr",
          "output_type": "stream",
          "text": [
            "loss: 0.5531: 100%|██████████| 469/469 [02:42<00:00,  2.89it/s]\n"
          ]
        },
        {
          "metadata": {
            "tags": null
          },
          "name": "stdout",
          "output_type": "stream",
          "text": [
            "Epoch: 31 \tTest Accuracy: 93.79\n",
            "EarlyStopping counter: 4 out of 100\n"
          ]
        },
        {
          "metadata": {
            "tags": null
          },
          "name": "stderr",
          "output_type": "stream",
          "text": [
            "loss: 0.5907: 100%|██████████| 469/469 [02:44<00:00,  2.85it/s]\n"
          ]
        },
        {
          "metadata": {
            "tags": null
          },
          "name": "stdout",
          "output_type": "stream",
          "text": [
            "Epoch: 32 \tTest Accuracy: 93.71\n",
            "EarlyStopping counter: 5 out of 100\n"
          ]
        },
        {
          "metadata": {
            "tags": null
          },
          "name": "stderr",
          "output_type": "stream",
          "text": [
            "loss: 0.5746: 100%|██████████| 469/469 [02:42<00:00,  2.88it/s]\n"
          ]
        },
        {
          "metadata": {
            "tags": null
          },
          "name": "stdout",
          "output_type": "stream",
          "text": [
            "Epoch: 33 \tTest Accuracy: 93.97\n",
            "EarlyStopping counter: 6 out of 100\n"
          ]
        },
        {
          "metadata": {
            "tags": null
          },
          "name": "stderr",
          "output_type": "stream",
          "text": [
            "loss: 0.6001: 100%|██████████| 469/469 [02:42<00:00,  2.89it/s]\n"
          ]
        },
        {
          "metadata": {
            "tags": null
          },
          "name": "stdout",
          "output_type": "stream",
          "text": [
            "Epoch: 34 \tTest Accuracy: 93.88\n",
            "EarlyStopping counter: 7 out of 100\n"
          ]
        },
        {
          "metadata": {
            "tags": null
          },
          "name": "stderr",
          "output_type": "stream",
          "text": [
            "loss: 0.6649: 100%|██████████| 469/469 [02:40<00:00,  2.92it/s]\n"
          ]
        },
        {
          "metadata": {
            "tags": null
          },
          "name": "stdout",
          "output_type": "stream",
          "text": [
            "Epoch: 35 \tTest Accuracy: 93.3\n",
            "EarlyStopping counter: 8 out of 100\n"
          ]
        },
        {
          "metadata": {
            "tags": null
          },
          "name": "stderr",
          "output_type": "stream",
          "text": [
            "loss: 0.5827: 100%|██████████| 469/469 [02:39<00:00,  2.94it/s]\n"
          ]
        },
        {
          "metadata": {
            "tags": null
          },
          "name": "stdout",
          "output_type": "stream",
          "text": [
            "Epoch: 36 \tTest Accuracy: 93.54\n",
            "EarlyStopping counter: 9 out of 100\n"
          ]
        },
        {
          "metadata": {
            "tags": null
          },
          "name": "stderr",
          "output_type": "stream",
          "text": [
            "loss: 0.5955: 100%|██████████| 469/469 [02:38<00:00,  2.96it/s]\n"
          ]
        },
        {
          "metadata": {
            "tags": null
          },
          "name": "stdout",
          "output_type": "stream",
          "text": [
            "Epoch: 37 \tTest Accuracy: 94.04\n",
            "EarlyStopping counter: 10 out of 100\n"
          ]
        },
        {
          "metadata": {
            "tags": null
          },
          "name": "stderr",
          "output_type": "stream",
          "text": [
            "loss: 0.5881: 100%|██████████| 469/469 [02:38<00:00,  2.95it/s]\n"
          ]
        },
        {
          "metadata": {
            "tags": null
          },
          "name": "stdout",
          "output_type": "stream",
          "text": [
            "Epoch: 38 \tTest Accuracy: 93.94\n",
            "EarlyStopping counter: 11 out of 100\n"
          ]
        },
        {
          "metadata": {
            "tags": null
          },
          "name": "stderr",
          "output_type": "stream",
          "text": [
            "loss: 0.5821: 100%|██████████| 469/469 [02:39<00:00,  2.95it/s]\n"
          ]
        },
        {
          "metadata": {
            "tags": null
          },
          "name": "stdout",
          "output_type": "stream",
          "text": [
            "Epoch: 39 \tTest Accuracy: 94.14\n",
            "EarlyStopping counter: 12 out of 100\n"
          ]
        },
        {
          "metadata": {
            "tags": null
          },
          "name": "stderr",
          "output_type": "stream",
          "text": [
            "loss: 0.5927: 100%|██████████| 469/469 [02:40<00:00,  2.93it/s]\n"
          ]
        },
        {
          "metadata": {
            "tags": null
          },
          "name": "stdout",
          "output_type": "stream",
          "text": [
            "Epoch: 40 \tTest Accuracy: 94.03\n",
            "EarlyStopping counter: 13 out of 100\n"
          ]
        },
        {
          "metadata": {
            "tags": null
          },
          "name": "stderr",
          "output_type": "stream",
          "text": [
            "loss: 0.5290: 100%|██████████| 469/469 [02:39<00:00,  2.94it/s]\n"
          ]
        },
        {
          "metadata": {
            "tags": null
          },
          "name": "stdout",
          "output_type": "stream",
          "text": [
            "Epoch: 41 \tTest Accuracy: 94.26\n",
            "Test acc increased (94.170000 --> 94.260000).  Saving model ...\n"
          ]
        },
        {
          "metadata": {
            "tags": null
          },
          "name": "stderr",
          "output_type": "stream",
          "text": [
            "loss: 0.5380: 100%|██████████| 469/469 [02:40<00:00,  2.93it/s]\n"
          ]
        },
        {
          "metadata": {
            "tags": null
          },
          "name": "stdout",
          "output_type": "stream",
          "text": [
            "Epoch: 42 \tTest Accuracy: 94.42\n",
            "Test acc increased (94.260000 --> 94.420000).  Saving model ...\n"
          ]
        },
        {
          "metadata": {
            "tags": null
          },
          "name": "stderr",
          "output_type": "stream",
          "text": [
            "loss: 0.5211: 100%|██████████| 469/469 [02:38<00:00,  2.96it/s]\n"
          ]
        },
        {
          "metadata": {
            "tags": null
          },
          "name": "stdout",
          "output_type": "stream",
          "text": [
            "Epoch: 43 \tTest Accuracy: 93.75\n",
            "EarlyStopping counter: 1 out of 100\n"
          ]
        },
        {
          "metadata": {
            "tags": null
          },
          "name": "stderr",
          "output_type": "stream",
          "text": [
            "loss: 0.5172: 100%|██████████| 469/469 [02:39<00:00,  2.95it/s]\n"
          ]
        },
        {
          "metadata": {
            "tags": null
          },
          "name": "stdout",
          "output_type": "stream",
          "text": [
            "Epoch: 44 \tTest Accuracy: 94.87\n",
            "Test acc increased (94.420000 --> 94.870000).  Saving model ...\n"
          ]
        },
        {
          "metadata": {
            "tags": null
          },
          "name": "stderr",
          "output_type": "stream",
          "text": [
            "loss: 0.4963: 100%|██████████| 469/469 [02:39<00:00,  2.93it/s]\n"
          ]
        },
        {
          "metadata": {
            "tags": null
          },
          "name": "stdout",
          "output_type": "stream",
          "text": [
            "Epoch: 45 \tTest Accuracy: 94.73\n",
            "EarlyStopping counter: 1 out of 100\n"
          ]
        },
        {
          "metadata": {
            "tags": null
          },
          "name": "stderr",
          "output_type": "stream",
          "text": [
            "loss: 0.4974: 100%|██████████| 469/469 [02:39<00:00,  2.94it/s]\n"
          ]
        },
        {
          "metadata": {
            "tags": null
          },
          "name": "stdout",
          "output_type": "stream",
          "text": [
            "Epoch: 46 \tTest Accuracy: 95.26\n",
            "Test acc increased (94.870000 --> 95.260000).  Saving model ...\n"
          ]
        },
        {
          "metadata": {
            "tags": null
          },
          "name": "stderr",
          "output_type": "stream",
          "text": [
            "loss: 0.5190: 100%|██████████| 469/469 [02:41<00:00,  2.91it/s]\n"
          ]
        },
        {
          "metadata": {
            "tags": null
          },
          "name": "stdout",
          "output_type": "stream",
          "text": [
            "Epoch: 47 \tTest Accuracy: 95.15\n",
            "EarlyStopping counter: 1 out of 100\n"
          ]
        },
        {
          "metadata": {
            "tags": null
          },
          "name": "stderr",
          "output_type": "stream",
          "text": [
            "loss: 0.4819: 100%|██████████| 469/469 [02:42<00:00,  2.88it/s]\n"
          ]
        },
        {
          "metadata": {
            "tags": null
          },
          "name": "stdout",
          "output_type": "stream",
          "text": [
            "Epoch: 48 \tTest Accuracy: 95.36\n",
            "Test acc increased (95.260000 --> 95.360000).  Saving model ...\n"
          ]
        },
        {
          "metadata": {
            "tags": null
          },
          "name": "stderr",
          "output_type": "stream",
          "text": [
            "loss: 0.4989: 100%|██████████| 469/469 [02:43<00:00,  2.86it/s]\n"
          ]
        },
        {
          "metadata": {
            "tags": null
          },
          "name": "stdout",
          "output_type": "stream",
          "text": [
            "Epoch: 49 \tTest Accuracy: 95.2\n",
            "EarlyStopping counter: 1 out of 100\n"
          ]
        },
        {
          "metadata": {
            "tags": null
          },
          "name": "stderr",
          "output_type": "stream",
          "text": [
            "loss: 0.4952: 100%|██████████| 469/469 [02:45<00:00,  2.84it/s]\n"
          ]
        },
        {
          "metadata": {
            "tags": null
          },
          "name": "stdout",
          "output_type": "stream",
          "text": [
            "Epoch: 50 \tTest Accuracy: 95.23\n",
            "EarlyStopping counter: 2 out of 100\n"
          ]
        },
        {
          "metadata": {
            "tags": null
          },
          "name": "stderr",
          "output_type": "stream",
          "text": [
            "loss: 0.4882: 100%|██████████| 469/469 [02:45<00:00,  2.83it/s]\n"
          ]
        },
        {
          "metadata": {
            "tags": null
          },
          "name": "stdout",
          "output_type": "stream",
          "text": [
            "Epoch: 51 \tTest Accuracy: 94.95\n",
            "EarlyStopping counter: 3 out of 100\n"
          ]
        },
        {
          "metadata": {
            "tags": null
          },
          "name": "stderr",
          "output_type": "stream",
          "text": [
            "loss: 0.5096: 100%|██████████| 469/469 [02:45<00:00,  2.84it/s]\n"
          ]
        },
        {
          "metadata": {
            "tags": null
          },
          "name": "stdout",
          "output_type": "stream",
          "text": [
            "Epoch: 52 \tTest Accuracy: 95.29\n",
            "EarlyStopping counter: 4 out of 100\n"
          ]
        },
        {
          "metadata": {
            "tags": null
          },
          "name": "stderr",
          "output_type": "stream",
          "text": [
            "loss: 0.5233: 100%|██████████| 469/469 [02:44<00:00,  2.86it/s]\n"
          ]
        },
        {
          "metadata": {
            "tags": null
          },
          "name": "stdout",
          "output_type": "stream",
          "text": [
            "Epoch: 53 \tTest Accuracy: 95.19\n",
            "EarlyStopping counter: 5 out of 100\n"
          ]
        },
        {
          "metadata": {
            "tags": null
          },
          "name": "stderr",
          "output_type": "stream",
          "text": [
            "loss: 0.5324: 100%|██████████| 469/469 [02:44<00:00,  2.86it/s]\n"
          ]
        },
        {
          "metadata": {
            "tags": null
          },
          "name": "stdout",
          "output_type": "stream",
          "text": [
            "Epoch: 54 \tTest Accuracy: 94.38\n",
            "EarlyStopping counter: 6 out of 100\n"
          ]
        },
        {
          "metadata": {
            "tags": null
          },
          "name": "stderr",
          "output_type": "stream",
          "text": [
            "loss: 0.5261: 100%|██████████| 469/469 [02:48<00:00,  2.79it/s]\n"
          ]
        },
        {
          "metadata": {
            "tags": null
          },
          "name": "stdout",
          "output_type": "stream",
          "text": [
            "Epoch: 55 \tTest Accuracy: 95.4\n",
            "Test acc increased (95.360000 --> 95.400000).  Saving model ...\n"
          ]
        },
        {
          "metadata": {
            "tags": null
          },
          "name": "stderr",
          "output_type": "stream",
          "text": [
            "loss: 0.5344: 100%|██████████| 469/469 [02:44<00:00,  2.85it/s]\n"
          ]
        },
        {
          "metadata": {
            "tags": null
          },
          "name": "stdout",
          "output_type": "stream",
          "text": [
            "Epoch: 56 \tTest Accuracy: 94.94\n",
            "EarlyStopping counter: 1 out of 100\n"
          ]
        },
        {
          "metadata": {
            "tags": null
          },
          "name": "stderr",
          "output_type": "stream",
          "text": [
            "loss: 0.4907: 100%|██████████| 469/469 [02:44<00:00,  2.85it/s]\n"
          ]
        },
        {
          "metadata": {
            "tags": null
          },
          "name": "stdout",
          "output_type": "stream",
          "text": [
            "Epoch: 57 \tTest Accuracy: 94.42\n",
            "EarlyStopping counter: 2 out of 100\n"
          ]
        },
        {
          "metadata": {
            "tags": null
          },
          "name": "stderr",
          "output_type": "stream",
          "text": [
            "loss: 0.5112: 100%|██████████| 469/469 [02:42<00:00,  2.89it/s]\n"
          ]
        },
        {
          "metadata": {
            "tags": null
          },
          "name": "stdout",
          "output_type": "stream",
          "text": [
            "Epoch: 58 \tTest Accuracy: 94.92\n",
            "EarlyStopping counter: 3 out of 100\n"
          ]
        },
        {
          "metadata": {
            "tags": null
          },
          "name": "stderr",
          "output_type": "stream",
          "text": [
            "loss: 0.5206: 100%|██████████| 469/469 [02:42<00:00,  2.89it/s]\n"
          ]
        },
        {
          "metadata": {
            "tags": null
          },
          "name": "stdout",
          "output_type": "stream",
          "text": [
            "Epoch: 59 \tTest Accuracy: 95.2\n",
            "EarlyStopping counter: 4 out of 100\n"
          ]
        },
        {
          "metadata": {
            "tags": null
          },
          "name": "stderr",
          "output_type": "stream",
          "text": [
            "loss: 0.4733: 100%|██████████| 469/469 [02:42<00:00,  2.88it/s]\n"
          ]
        },
        {
          "metadata": {
            "tags": null
          },
          "name": "stdout",
          "output_type": "stream",
          "text": [
            "Epoch: 60 \tTest Accuracy: 95.36\n",
            "EarlyStopping counter: 5 out of 100\n"
          ]
        },
        {
          "metadata": {
            "tags": null
          },
          "name": "stderr",
          "output_type": "stream",
          "text": [
            "loss: 0.5005: 100%|██████████| 469/469 [02:43<00:00,  2.88it/s]\n"
          ]
        },
        {
          "metadata": {
            "tags": null
          },
          "name": "stdout",
          "output_type": "stream",
          "text": [
            "Epoch: 61 \tTest Accuracy: 95.33\n",
            "EarlyStopping counter: 6 out of 100\n"
          ]
        },
        {
          "metadata": {
            "tags": null
          },
          "name": "stderr",
          "output_type": "stream",
          "text": [
            "loss: 0.5165: 100%|██████████| 469/469 [02:44<00:00,  2.84it/s]\n"
          ]
        },
        {
          "metadata": {
            "tags": null
          },
          "name": "stdout",
          "output_type": "stream",
          "text": [
            "Epoch: 62 \tTest Accuracy: 94.9\n",
            "EarlyStopping counter: 7 out of 100\n"
          ]
        },
        {
          "metadata": {
            "tags": null
          },
          "name": "stderr",
          "output_type": "stream",
          "text": [
            "loss: 0.4586: 100%|██████████| 469/469 [02:41<00:00,  2.91it/s]\n"
          ]
        },
        {
          "metadata": {
            "tags": null
          },
          "name": "stdout",
          "output_type": "stream",
          "text": [
            "Epoch: 63 \tTest Accuracy: 94.5\n",
            "EarlyStopping counter: 8 out of 100\n"
          ]
        },
        {
          "metadata": {
            "tags": null
          },
          "name": "stderr",
          "output_type": "stream",
          "text": [
            "loss: 0.4810: 100%|██████████| 469/469 [02:40<00:00,  2.92it/s]\n"
          ]
        },
        {
          "metadata": {
            "tags": null
          },
          "name": "stdout",
          "output_type": "stream",
          "text": [
            "Epoch: 64 \tTest Accuracy: 95.36\n",
            "EarlyStopping counter: 9 out of 100\n"
          ]
        },
        {
          "metadata": {
            "tags": null
          },
          "name": "stderr",
          "output_type": "stream",
          "text": [
            "loss: 0.4687: 100%|██████████| 469/469 [02:40<00:00,  2.92it/s]\n"
          ]
        },
        {
          "metadata": {
            "tags": null
          },
          "name": "stdout",
          "output_type": "stream",
          "text": [
            "Epoch: 65 \tTest Accuracy: 95.27\n",
            "EarlyStopping counter: 10 out of 100\n"
          ]
        },
        {
          "metadata": {
            "tags": null
          },
          "name": "stderr",
          "output_type": "stream",
          "text": [
            "loss: 0.4455: 100%|██████████| 469/469 [02:39<00:00,  2.94it/s]\n"
          ]
        },
        {
          "metadata": {
            "tags": null
          },
          "name": "stdout",
          "output_type": "stream",
          "text": [
            "Epoch: 66 \tTest Accuracy: 95.47\n",
            "Test acc increased (95.400000 --> 95.470000).  Saving model ...\n"
          ]
        },
        {
          "metadata": {
            "tags": null
          },
          "name": "stderr",
          "output_type": "stream",
          "text": [
            "loss: 0.4888: 100%|██████████| 469/469 [02:39<00:00,  2.95it/s]\n"
          ]
        },
        {
          "metadata": {
            "tags": null
          },
          "name": "stdout",
          "output_type": "stream",
          "text": [
            "Epoch: 67 \tTest Accuracy: 95.6\n",
            "Test acc increased (95.470000 --> 95.600000).  Saving model ...\n"
          ]
        },
        {
          "metadata": {
            "tags": null
          },
          "name": "stderr",
          "output_type": "stream",
          "text": [
            "loss: 0.4374: 100%|██████████| 469/469 [02:40<00:00,  2.93it/s]\n"
          ]
        },
        {
          "metadata": {
            "tags": null
          },
          "name": "stdout",
          "output_type": "stream",
          "text": [
            "Epoch: 68 \tTest Accuracy: 95.68\n",
            "Test acc increased (95.600000 --> 95.680000).  Saving model ...\n"
          ]
        },
        {
          "metadata": {
            "tags": null
          },
          "name": "stderr",
          "output_type": "stream",
          "text": [
            "loss: 0.4090: 100%|██████████| 469/469 [02:39<00:00,  2.94it/s]\n"
          ]
        },
        {
          "metadata": {
            "tags": null
          },
          "name": "stdout",
          "output_type": "stream",
          "text": [
            "Epoch: 69 \tTest Accuracy: 95.95\n",
            "Test acc increased (95.680000 --> 95.950000).  Saving model ...\n"
          ]
        },
        {
          "metadata": {
            "tags": null
          },
          "name": "stderr",
          "output_type": "stream",
          "text": [
            "loss: 0.4351: 100%|██████████| 469/469 [02:39<00:00,  2.94it/s]\n"
          ]
        },
        {
          "metadata": {
            "tags": null
          },
          "name": "stdout",
          "output_type": "stream",
          "text": [
            "Epoch: 70 \tTest Accuracy: 95.62\n",
            "EarlyStopping counter: 1 out of 100\n"
          ]
        },
        {
          "metadata": {
            "tags": null
          },
          "name": "stderr",
          "output_type": "stream",
          "text": [
            "loss: 0.4192: 100%|██████████| 469/469 [02:39<00:00,  2.95it/s]\n"
          ]
        },
        {
          "metadata": {
            "tags": null
          },
          "name": "stdout",
          "output_type": "stream",
          "text": [
            "Epoch: 71 \tTest Accuracy: 95.76\n",
            "EarlyStopping counter: 2 out of 100\n"
          ]
        },
        {
          "metadata": {
            "tags": null
          },
          "name": "stderr",
          "output_type": "stream",
          "text": [
            "loss: 0.4403: 100%|██████████| 469/469 [02:40<00:00,  2.93it/s]\n"
          ]
        },
        {
          "metadata": {
            "tags": null
          },
          "name": "stdout",
          "output_type": "stream",
          "text": [
            "Epoch: 72 \tTest Accuracy: 95.77\n",
            "EarlyStopping counter: 3 out of 100\n"
          ]
        },
        {
          "metadata": {
            "tags": null
          },
          "name": "stderr",
          "output_type": "stream",
          "text": [
            "loss: 0.4479: 100%|██████████| 469/469 [02:39<00:00,  2.95it/s]\n"
          ]
        },
        {
          "metadata": {
            "tags": null
          },
          "name": "stdout",
          "output_type": "stream",
          "text": [
            "Epoch: 73 \tTest Accuracy: 95.42\n",
            "EarlyStopping counter: 4 out of 100\n"
          ]
        },
        {
          "metadata": {
            "tags": null
          },
          "name": "stderr",
          "output_type": "stream",
          "text": [
            "loss: 0.4754: 100%|██████████| 469/469 [02:38<00:00,  2.96it/s]\n"
          ]
        },
        {
          "metadata": {
            "tags": null
          },
          "name": "stdout",
          "output_type": "stream",
          "text": [
            "Epoch: 74 \tTest Accuracy: 95.33\n",
            "EarlyStopping counter: 5 out of 100\n"
          ]
        },
        {
          "metadata": {
            "tags": null
          },
          "name": "stderr",
          "output_type": "stream",
          "text": [
            "loss: 0.4649: 100%|██████████| 469/469 [02:39<00:00,  2.95it/s]\n"
          ]
        },
        {
          "metadata": {
            "tags": null
          },
          "name": "stdout",
          "output_type": "stream",
          "text": [
            "Epoch: 75 \tTest Accuracy: 95.41\n",
            "EarlyStopping counter: 6 out of 100\n"
          ]
        },
        {
          "metadata": {
            "tags": null
          },
          "name": "stderr",
          "output_type": "stream",
          "text": [
            "loss: 0.4671: 100%|██████████| 469/469 [02:39<00:00,  2.95it/s]\n"
          ]
        },
        {
          "metadata": {
            "tags": null
          },
          "name": "stdout",
          "output_type": "stream",
          "text": [
            "Epoch: 76 \tTest Accuracy: 95.48\n",
            "EarlyStopping counter: 7 out of 100\n"
          ]
        },
        {
          "metadata": {
            "tags": null
          },
          "name": "stderr",
          "output_type": "stream",
          "text": [
            "loss: 0.4490: 100%|██████████| 469/469 [02:39<00:00,  2.95it/s]\n"
          ]
        },
        {
          "metadata": {
            "tags": null
          },
          "name": "stdout",
          "output_type": "stream",
          "text": [
            "Epoch: 77 \tTest Accuracy: 95.68\n",
            "EarlyStopping counter: 8 out of 100\n"
          ]
        },
        {
          "metadata": {
            "tags": null
          },
          "name": "stderr",
          "output_type": "stream",
          "text": [
            "loss: 0.4931: 100%|██████████| 469/469 [02:38<00:00,  2.95it/s]\n"
          ]
        },
        {
          "metadata": {
            "tags": null
          },
          "name": "stdout",
          "output_type": "stream",
          "text": [
            "Epoch: 78 \tTest Accuracy: 94.14\n",
            "EarlyStopping counter: 9 out of 100\n"
          ]
        },
        {
          "metadata": {
            "tags": null
          },
          "name": "stderr",
          "output_type": "stream",
          "text": [
            "loss: 0.4651: 100%|██████████| 469/469 [02:40<00:00,  2.92it/s]\n"
          ]
        },
        {
          "metadata": {
            "tags": null
          },
          "name": "stdout",
          "output_type": "stream",
          "text": [
            "Epoch: 79 \tTest Accuracy: 95.53\n",
            "EarlyStopping counter: 10 out of 100\n"
          ]
        },
        {
          "metadata": {
            "tags": null
          },
          "name": "stderr",
          "output_type": "stream",
          "text": [
            "loss: 0.5143: 100%|██████████| 469/469 [02:40<00:00,  2.91it/s]\n"
          ]
        },
        {
          "metadata": {
            "tags": null
          },
          "name": "stdout",
          "output_type": "stream",
          "text": [
            "Epoch: 80 \tTest Accuracy: 95.54\n",
            "EarlyStopping counter: 11 out of 100\n"
          ]
        },
        {
          "metadata": {
            "tags": null
          },
          "name": "stderr",
          "output_type": "stream",
          "text": [
            "loss: 0.4348: 100%|██████████| 469/469 [02:40<00:00,  2.92it/s]\n"
          ]
        },
        {
          "metadata": {
            "tags": null
          },
          "name": "stdout",
          "output_type": "stream",
          "text": [
            "Epoch: 81 \tTest Accuracy: 95.41\n",
            "EarlyStopping counter: 12 out of 100\n"
          ]
        },
        {
          "metadata": {
            "tags": null
          },
          "name": "stderr",
          "output_type": "stream",
          "text": [
            "loss: 0.4203: 100%|██████████| 469/469 [02:40<00:00,  2.91it/s]\n"
          ]
        },
        {
          "metadata": {
            "tags": null
          },
          "name": "stdout",
          "output_type": "stream",
          "text": [
            "Epoch: 82 \tTest Accuracy: 95.39\n",
            "EarlyStopping counter: 13 out of 100\n"
          ]
        },
        {
          "metadata": {
            "tags": null
          },
          "name": "stderr",
          "output_type": "stream",
          "text": [
            "loss: 0.4676: 100%|██████████| 469/469 [02:41<00:00,  2.90it/s]\n"
          ]
        },
        {
          "metadata": {
            "tags": null
          },
          "name": "stdout",
          "output_type": "stream",
          "text": [
            "Epoch: 83 \tTest Accuracy: 95.52\n",
            "EarlyStopping counter: 14 out of 100\n"
          ]
        },
        {
          "metadata": {
            "tags": null
          },
          "name": "stderr",
          "output_type": "stream",
          "text": [
            "loss: 0.4151: 100%|██████████| 469/469 [02:43<00:00,  2.86it/s]\n"
          ]
        },
        {
          "metadata": {
            "tags": null
          },
          "name": "stdout",
          "output_type": "stream",
          "text": [
            "Epoch: 84 \tTest Accuracy: 95.89\n",
            "EarlyStopping counter: 15 out of 100\n"
          ]
        },
        {
          "metadata": {
            "tags": null
          },
          "name": "stderr",
          "output_type": "stream",
          "text": [
            "loss: 0.4091: 100%|██████████| 469/469 [02:43<00:00,  2.88it/s]\n"
          ]
        },
        {
          "metadata": {
            "tags": null
          },
          "name": "stdout",
          "output_type": "stream",
          "text": [
            "Epoch: 85 \tTest Accuracy: 95.76\n",
            "EarlyStopping counter: 16 out of 100\n"
          ]
        },
        {
          "metadata": {
            "tags": null
          },
          "name": "stderr",
          "output_type": "stream",
          "text": [
            "loss: 0.4507: 100%|██████████| 469/469 [02:41<00:00,  2.90it/s]\n"
          ]
        },
        {
          "metadata": {
            "tags": null
          },
          "name": "stdout",
          "output_type": "stream",
          "text": [
            "Epoch: 86 \tTest Accuracy: 95.96\n",
            "Test acc increased (95.950000 --> 95.960000).  Saving model ...\n"
          ]
        },
        {
          "metadata": {
            "tags": null
          },
          "name": "stderr",
          "output_type": "stream",
          "text": [
            "loss: 0.4301: 100%|██████████| 469/469 [02:42<00:00,  2.88it/s]\n"
          ]
        },
        {
          "metadata": {
            "tags": null
          },
          "name": "stdout",
          "output_type": "stream",
          "text": [
            "Epoch: 87 \tTest Accuracy: 95.13\n",
            "EarlyStopping counter: 1 out of 100\n"
          ]
        },
        {
          "metadata": {
            "tags": null
          },
          "name": "stderr",
          "output_type": "stream",
          "text": [
            "loss: 0.3903: 100%|██████████| 469/469 [02:42<00:00,  2.89it/s]\n"
          ]
        },
        {
          "metadata": {
            "tags": null
          },
          "name": "stdout",
          "output_type": "stream",
          "text": [
            "Epoch: 88 \tTest Accuracy: 95.67\n",
            "EarlyStopping counter: 2 out of 100\n"
          ]
        },
        {
          "metadata": {
            "tags": null
          },
          "name": "stderr",
          "output_type": "stream",
          "text": [
            "loss: 0.3983: 100%|██████████| 469/469 [02:43<00:00,  2.88it/s]\n"
          ]
        },
        {
          "metadata": {
            "tags": null
          },
          "name": "stdout",
          "output_type": "stream",
          "text": [
            "Epoch: 89 \tTest Accuracy: 95.97\n",
            "Test acc increased (95.960000 --> 95.970000).  Saving model ...\n"
          ]
        },
        {
          "metadata": {
            "tags": null
          },
          "name": "stderr",
          "output_type": "stream",
          "text": [
            "loss: 0.4230: 100%|██████████| 469/469 [02:43<00:00,  2.87it/s]\n"
          ]
        },
        {
          "metadata": {
            "tags": null
          },
          "name": "stdout",
          "output_type": "stream",
          "text": [
            "Epoch: 90 \tTest Accuracy: 95.92\n",
            "EarlyStopping counter: 1 out of 100\n"
          ]
        },
        {
          "metadata": {
            "tags": null
          },
          "name": "stderr",
          "output_type": "stream",
          "text": [
            "loss: 0.3965: 100%|██████████| 469/469 [02:44<00:00,  2.85it/s]\n"
          ]
        },
        {
          "metadata": {
            "tags": null
          },
          "name": "stdout",
          "output_type": "stream",
          "text": [
            "Epoch: 91 \tTest Accuracy: 95.86\n",
            "EarlyStopping counter: 2 out of 100\n"
          ]
        },
        {
          "metadata": {
            "tags": null
          },
          "name": "stderr",
          "output_type": "stream",
          "text": [
            "loss: 0.4205: 100%|██████████| 469/469 [02:43<00:00,  2.87it/s]\n"
          ]
        },
        {
          "metadata": {
            "tags": null
          },
          "name": "stdout",
          "output_type": "stream",
          "text": [
            "Epoch: 92 \tTest Accuracy: 95.8\n",
            "EarlyStopping counter: 3 out of 100\n"
          ]
        },
        {
          "metadata": {
            "tags": null
          },
          "name": "stderr",
          "output_type": "stream",
          "text": [
            "loss: 0.4070: 100%|██████████| 469/469 [02:43<00:00,  2.86it/s]\n"
          ]
        },
        {
          "metadata": {
            "tags": null
          },
          "name": "stdout",
          "output_type": "stream",
          "text": [
            "Epoch: 93 \tTest Accuracy: 95.87\n",
            "EarlyStopping counter: 4 out of 100\n"
          ]
        },
        {
          "metadata": {
            "tags": null
          },
          "name": "stderr",
          "output_type": "stream",
          "text": [
            "loss: 0.3994: 100%|██████████| 469/469 [02:43<00:00,  2.87it/s]\n"
          ]
        },
        {
          "metadata": {
            "tags": null
          },
          "name": "stdout",
          "output_type": "stream",
          "text": [
            "Epoch: 94 \tTest Accuracy: 95.77\n",
            "EarlyStopping counter: 5 out of 100\n"
          ]
        },
        {
          "metadata": {
            "tags": null
          },
          "name": "stderr",
          "output_type": "stream",
          "text": [
            "loss: 0.4376: 100%|██████████| 469/469 [02:44<00:00,  2.86it/s]\n"
          ]
        },
        {
          "metadata": {
            "tags": null
          },
          "name": "stdout",
          "output_type": "stream",
          "text": [
            "Epoch: 95 \tTest Accuracy: 95.41\n",
            "EarlyStopping counter: 6 out of 100\n"
          ]
        },
        {
          "metadata": {
            "tags": null
          },
          "name": "stderr",
          "output_type": "stream",
          "text": [
            "loss: 0.4241: 100%|██████████| 469/469 [02:42<00:00,  2.89it/s]\n"
          ]
        },
        {
          "metadata": {
            "tags": null
          },
          "name": "stdout",
          "output_type": "stream",
          "text": [
            "Epoch: 96 \tTest Accuracy: 95.39\n",
            "EarlyStopping counter: 7 out of 100\n"
          ]
        },
        {
          "metadata": {
            "tags": null
          },
          "name": "stderr",
          "output_type": "stream",
          "text": [
            "loss: 0.4662: 100%|██████████| 469/469 [02:41<00:00,  2.90it/s]\n"
          ]
        },
        {
          "metadata": {
            "tags": null
          },
          "name": "stdout",
          "output_type": "stream",
          "text": [
            "Epoch: 97 \tTest Accuracy: 95.81\n",
            "EarlyStopping counter: 8 out of 100\n"
          ]
        },
        {
          "metadata": {
            "tags": null
          },
          "name": "stderr",
          "output_type": "stream",
          "text": [
            "loss: 0.4445: 100%|██████████| 469/469 [02:40<00:00,  2.93it/s]\n"
          ]
        },
        {
          "metadata": {
            "tags": null
          },
          "name": "stdout",
          "output_type": "stream",
          "text": [
            "Epoch: 98 \tTest Accuracy: 95.56\n",
            "EarlyStopping counter: 9 out of 100\n"
          ]
        },
        {
          "metadata": {
            "tags": null
          },
          "name": "stderr",
          "output_type": "stream",
          "text": [
            "loss: 0.4313: 100%|██████████| 469/469 [02:43<00:00,  2.88it/s]\n"
          ]
        },
        {
          "metadata": {
            "tags": null
          },
          "name": "stdout",
          "output_type": "stream",
          "text": [
            "Epoch: 99 \tTest Accuracy: 95.81\n",
            "EarlyStopping counter: 10 out of 100\n"
          ]
        },
        {
          "metadata": {
            "tags": null
          },
          "name": "stderr",
          "output_type": "stream",
          "text": [
            "loss: 0.4438: 100%|██████████| 469/469 [02:40<00:00,  2.92it/s]\n"
          ]
        },
        {
          "metadata": {
            "tags": null
          },
          "name": "stdout",
          "output_type": "stream",
          "text": [
            "Epoch: 100 \tTest Accuracy: 95.83\n",
            "EarlyStopping counter: 11 out of 100\n"
          ]
        },
        {
          "metadata": {
            "tags": null
          },
          "name": "stderr",
          "output_type": "stream",
          "text": [
            "loss: 0.4472: 100%|██████████| 469/469 [02:45<00:00,  2.83it/s]\n"
          ]
        },
        {
          "metadata": {
            "tags": null
          },
          "name": "stdout",
          "output_type": "stream",
          "text": [
            "Epoch: 101 \tTest Accuracy: 95.63\n",
            "EarlyStopping counter: 12 out of 100\n"
          ]
        },
        {
          "metadata": {
            "tags": null
          },
          "name": "stderr",
          "output_type": "stream",
          "text": [
            "loss: 0.4313: 100%|██████████| 469/469 [02:44<00:00,  2.86it/s]\n"
          ]
        },
        {
          "metadata": {
            "tags": null
          },
          "name": "stdout",
          "output_type": "stream",
          "text": [
            "Epoch: 102 \tTest Accuracy: 95.65\n",
            "EarlyStopping counter: 13 out of 100\n"
          ]
        },
        {
          "metadata": {
            "tags": null
          },
          "name": "stderr",
          "output_type": "stream",
          "text": [
            "loss: 0.4407: 100%|██████████| 469/469 [02:42<00:00,  2.89it/s]\n"
          ]
        },
        {
          "metadata": {
            "tags": null
          },
          "name": "stdout",
          "output_type": "stream",
          "text": [
            "Epoch: 103 \tTest Accuracy: 95.55\n",
            "EarlyStopping counter: 14 out of 100\n"
          ]
        },
        {
          "metadata": {
            "tags": null
          },
          "name": "stderr",
          "output_type": "stream",
          "text": [
            "loss: 0.4281: 100%|██████████| 469/469 [02:41<00:00,  2.91it/s]\n"
          ]
        },
        {
          "metadata": {
            "tags": null
          },
          "name": "stdout",
          "output_type": "stream",
          "text": [
            "Epoch: 104 \tTest Accuracy: 95.6\n",
            "EarlyStopping counter: 15 out of 100\n"
          ]
        },
        {
          "metadata": {
            "tags": null
          },
          "name": "stderr",
          "output_type": "stream",
          "text": [
            "loss: 0.3991: 100%|██████████| 469/469 [02:41<00:00,  2.90it/s]\n"
          ]
        },
        {
          "metadata": {
            "tags": null
          },
          "name": "stdout",
          "output_type": "stream",
          "text": [
            "Epoch: 105 \tTest Accuracy: 95.81\n",
            "EarlyStopping counter: 16 out of 100\n"
          ]
        },
        {
          "metadata": {
            "tags": null
          },
          "name": "stderr",
          "output_type": "stream",
          "text": [
            "loss: 0.3624: 100%|██████████| 469/469 [02:41<00:00,  2.91it/s]\n"
          ]
        },
        {
          "metadata": {
            "tags": null
          },
          "name": "stdout",
          "output_type": "stream",
          "text": [
            "Epoch: 106 \tTest Accuracy: 95.67\n",
            "EarlyStopping counter: 17 out of 100\n"
          ]
        },
        {
          "metadata": {
            "tags": null
          },
          "name": "stderr",
          "output_type": "stream",
          "text": [
            "loss: 0.3822: 100%|██████████| 469/469 [02:44<00:00,  2.85it/s]\n"
          ]
        },
        {
          "metadata": {
            "tags": null
          },
          "name": "stdout",
          "output_type": "stream",
          "text": [
            "Epoch: 107 \tTest Accuracy: 95.86\n",
            "EarlyStopping counter: 18 out of 100\n"
          ]
        },
        {
          "metadata": {
            "tags": null
          },
          "name": "stderr",
          "output_type": "stream",
          "text": [
            "loss: 0.3560: 100%|██████████| 469/469 [02:43<00:00,  2.87it/s]\n"
          ]
        },
        {
          "metadata": {
            "tags": null
          },
          "name": "stdout",
          "output_type": "stream",
          "text": [
            "Epoch: 108 \tTest Accuracy: 95.95\n",
            "EarlyStopping counter: 19 out of 100\n"
          ]
        },
        {
          "metadata": {
            "tags": null
          },
          "name": "stderr",
          "output_type": "stream",
          "text": [
            "loss: 0.3865: 100%|██████████| 469/469 [02:43<00:00,  2.86it/s]\n"
          ]
        },
        {
          "metadata": {
            "tags": null
          },
          "name": "stdout",
          "output_type": "stream",
          "text": [
            "Epoch: 109 \tTest Accuracy: 95.92\n",
            "EarlyStopping counter: 20 out of 100\n"
          ]
        },
        {
          "metadata": {
            "tags": null
          },
          "name": "stderr",
          "output_type": "stream",
          "text": [
            "loss: 0.3676: 100%|██████████| 469/469 [02:42<00:00,  2.89it/s]\n"
          ]
        },
        {
          "metadata": {
            "tags": null
          },
          "name": "stdout",
          "output_type": "stream",
          "text": [
            "Epoch: 110 \tTest Accuracy: 95.66\n",
            "EarlyStopping counter: 21 out of 100\n"
          ]
        },
        {
          "metadata": {
            "tags": null
          },
          "name": "stderr",
          "output_type": "stream",
          "text": [
            "loss: 0.3671: 100%|██████████| 469/469 [02:43<00:00,  2.88it/s]\n"
          ]
        },
        {
          "metadata": {
            "tags": null
          },
          "name": "stdout",
          "output_type": "stream",
          "text": [
            "Epoch: 111 \tTest Accuracy: 96.02\n",
            "Test acc increased (95.970000 --> 96.020000).  Saving model ...\n"
          ]
        },
        {
          "metadata": {
            "tags": null
          },
          "name": "stderr",
          "output_type": "stream",
          "text": [
            "loss: 0.3827: 100%|██████████| 469/469 [02:42<00:00,  2.88it/s]\n"
          ]
        },
        {
          "metadata": {
            "tags": null
          },
          "name": "stdout",
          "output_type": "stream",
          "text": [
            "Epoch: 112 \tTest Accuracy: 96.11\n",
            "Test acc increased (96.020000 --> 96.110000).  Saving model ...\n"
          ]
        },
        {
          "metadata": {
            "tags": null
          },
          "name": "stderr",
          "output_type": "stream",
          "text": [
            "loss: 0.3810: 100%|██████████| 469/469 [02:44<00:00,  2.84it/s]\n"
          ]
        },
        {
          "metadata": {
            "tags": null
          },
          "name": "stdout",
          "output_type": "stream",
          "text": [
            "Epoch: 113 \tTest Accuracy: 96.28\n",
            "Test acc increased (96.110000 --> 96.280000).  Saving model ...\n"
          ]
        },
        {
          "metadata": {
            "tags": null
          },
          "name": "stderr",
          "output_type": "stream",
          "text": [
            "loss: 0.4117: 100%|██████████| 469/469 [02:43<00:00,  2.87it/s]\n"
          ]
        },
        {
          "metadata": {
            "tags": null
          },
          "name": "stdout",
          "output_type": "stream",
          "text": [
            "Epoch: 114 \tTest Accuracy: 95.55\n",
            "EarlyStopping counter: 1 out of 100\n"
          ]
        },
        {
          "metadata": {
            "tags": null
          },
          "name": "stderr",
          "output_type": "stream",
          "text": [
            "loss: 0.4160: 100%|██████████| 469/469 [02:43<00:00,  2.86it/s]\n"
          ]
        },
        {
          "metadata": {
            "tags": null
          },
          "name": "stdout",
          "output_type": "stream",
          "text": [
            "Epoch: 115 \tTest Accuracy: 96.11\n",
            "EarlyStopping counter: 2 out of 100\n"
          ]
        },
        {
          "metadata": {
            "tags": null
          },
          "name": "stderr",
          "output_type": "stream",
          "text": [
            "loss: 0.3939: 100%|██████████| 469/469 [02:44<00:00,  2.85it/s]\n"
          ]
        },
        {
          "metadata": {
            "tags": null
          },
          "name": "stdout",
          "output_type": "stream",
          "text": [
            "Epoch: 116 \tTest Accuracy: 95.98\n",
            "EarlyStopping counter: 3 out of 100\n"
          ]
        },
        {
          "metadata": {
            "tags": null
          },
          "name": "stderr",
          "output_type": "stream",
          "text": [
            "loss: 0.4134: 100%|██████████| 469/469 [02:45<00:00,  2.83it/s]\n"
          ]
        },
        {
          "metadata": {
            "tags": null
          },
          "name": "stdout",
          "output_type": "stream",
          "text": [
            "Epoch: 117 \tTest Accuracy: 95.17\n",
            "EarlyStopping counter: 4 out of 100\n"
          ]
        },
        {
          "metadata": {
            "tags": null
          },
          "name": "stderr",
          "output_type": "stream",
          "text": [
            "loss: 0.4291: 100%|██████████| 469/469 [02:45<00:00,  2.83it/s]\n"
          ]
        },
        {
          "metadata": {
            "tags": null
          },
          "name": "stdout",
          "output_type": "stream",
          "text": [
            "Epoch: 118 \tTest Accuracy: 95.77\n",
            "EarlyStopping counter: 5 out of 100\n"
          ]
        },
        {
          "metadata": {
            "tags": null
          },
          "name": "stderr",
          "output_type": "stream",
          "text": [
            "loss: 0.4031: 100%|██████████| 469/469 [02:46<00:00,  2.81it/s]\n"
          ]
        },
        {
          "metadata": {
            "tags": null
          },
          "name": "stdout",
          "output_type": "stream",
          "text": [
            "Epoch: 119 \tTest Accuracy: 95.59\n",
            "EarlyStopping counter: 6 out of 100\n"
          ]
        },
        {
          "metadata": {
            "tags": null
          },
          "name": "stderr",
          "output_type": "stream",
          "text": [
            "loss: 0.3906: 100%|██████████| 469/469 [02:45<00:00,  2.84it/s]\n"
          ]
        },
        {
          "metadata": {
            "tags": null
          },
          "name": "stdout",
          "output_type": "stream",
          "text": [
            "Epoch: 120 \tTest Accuracy: 95.74\n",
            "EarlyStopping counter: 7 out of 100\n"
          ]
        },
        {
          "metadata": {
            "tags": null
          },
          "name": "stderr",
          "output_type": "stream",
          "text": [
            "loss: 0.4024: 100%|██████████| 469/469 [02:46<00:00,  2.82it/s]\n"
          ]
        },
        {
          "metadata": {
            "tags": null
          },
          "name": "stdout",
          "output_type": "stream",
          "text": [
            "Epoch: 121 \tTest Accuracy: 95.88\n",
            "EarlyStopping counter: 8 out of 100\n"
          ]
        },
        {
          "metadata": {
            "tags": null
          },
          "name": "stderr",
          "output_type": "stream",
          "text": [
            "loss: 0.3836: 100%|██████████| 469/469 [02:48<00:00,  2.79it/s]\n"
          ]
        },
        {
          "metadata": {
            "tags": null
          },
          "name": "stdout",
          "output_type": "stream",
          "text": [
            "Epoch: 122 \tTest Accuracy: 95.74\n",
            "EarlyStopping counter: 9 out of 100\n"
          ]
        },
        {
          "metadata": {
            "tags": null
          },
          "name": "stderr",
          "output_type": "stream",
          "text": [
            "loss: 0.3900: 100%|██████████| 469/469 [02:52<00:00,  2.73it/s]\n"
          ]
        },
        {
          "metadata": {
            "tags": null
          },
          "name": "stdout",
          "output_type": "stream",
          "text": [
            "Epoch: 123 \tTest Accuracy: 95.91\n",
            "EarlyStopping counter: 10 out of 100\n"
          ]
        },
        {
          "metadata": {
            "tags": null
          },
          "name": "stderr",
          "output_type": "stream",
          "text": [
            "loss: 0.3803: 100%|██████████| 469/469 [02:50<00:00,  2.75it/s]\n"
          ]
        },
        {
          "metadata": {
            "tags": null
          },
          "name": "stdout",
          "output_type": "stream",
          "text": [
            "Epoch: 124 \tTest Accuracy: 96.0\n",
            "EarlyStopping counter: 11 out of 100\n"
          ]
        },
        {
          "metadata": {
            "tags": null
          },
          "name": "stderr",
          "output_type": "stream",
          "text": [
            "loss: 0.3778: 100%|██████████| 469/469 [02:51<00:00,  2.74it/s]\n"
          ]
        },
        {
          "metadata": {
            "tags": null
          },
          "name": "stdout",
          "output_type": "stream",
          "text": [
            "Epoch: 125 \tTest Accuracy: 95.86\n",
            "EarlyStopping counter: 12 out of 100\n"
          ]
        },
        {
          "metadata": {
            "tags": null
          },
          "name": "stderr",
          "output_type": "stream",
          "text": [
            "loss: 0.3772: 100%|██████████| 469/469 [02:48<00:00,  2.79it/s]\n"
          ]
        },
        {
          "metadata": {
            "tags": null
          },
          "name": "stdout",
          "output_type": "stream",
          "text": [
            "Epoch: 126 \tTest Accuracy: 95.58\n",
            "EarlyStopping counter: 13 out of 100\n"
          ]
        },
        {
          "metadata": {
            "tags": null
          },
          "name": "stderr",
          "output_type": "stream",
          "text": [
            "loss: 0.3788: 100%|██████████| 469/469 [02:46<00:00,  2.81it/s]\n"
          ]
        },
        {
          "metadata": {
            "tags": null
          },
          "name": "stdout",
          "output_type": "stream",
          "text": [
            "Epoch: 127 \tTest Accuracy: 95.86\n",
            "EarlyStopping counter: 14 out of 100\n"
          ]
        },
        {
          "metadata": {
            "tags": null
          },
          "name": "stderr",
          "output_type": "stream",
          "text": [
            "loss: 0.3812: 100%|██████████| 469/469 [02:46<00:00,  2.81it/s]\n"
          ]
        },
        {
          "metadata": {
            "tags": null
          },
          "name": "stdout",
          "output_type": "stream",
          "text": [
            "Epoch: 128 \tTest Accuracy: 95.97\n",
            "EarlyStopping counter: 15 out of 100\n"
          ]
        },
        {
          "metadata": {
            "tags": null
          },
          "name": "stderr",
          "output_type": "stream",
          "text": [
            "loss: 0.3537: 100%|██████████| 469/469 [02:45<00:00,  2.83it/s]\n"
          ]
        },
        {
          "metadata": {
            "tags": null
          },
          "name": "stdout",
          "output_type": "stream",
          "text": [
            "Epoch: 129 \tTest Accuracy: 95.84\n",
            "EarlyStopping counter: 16 out of 100\n"
          ]
        },
        {
          "metadata": {
            "tags": null
          },
          "name": "stderr",
          "output_type": "stream",
          "text": [
            "loss: 0.3314: 100%|██████████| 469/469 [02:46<00:00,  2.82it/s]\n"
          ]
        },
        {
          "metadata": {
            "tags": null
          },
          "name": "stdout",
          "output_type": "stream",
          "text": [
            "Epoch: 130 \tTest Accuracy: 96.02\n",
            "EarlyStopping counter: 17 out of 100\n"
          ]
        },
        {
          "metadata": {
            "tags": null
          },
          "name": "stderr",
          "output_type": "stream",
          "text": [
            "loss: 0.3444: 100%|██████████| 469/469 [02:44<00:00,  2.86it/s]\n"
          ]
        },
        {
          "metadata": {
            "tags": null
          },
          "name": "stdout",
          "output_type": "stream",
          "text": [
            "Epoch: 131 \tTest Accuracy: 96.11\n",
            "EarlyStopping counter: 18 out of 100\n"
          ]
        },
        {
          "metadata": {
            "tags": null
          },
          "name": "stderr",
          "output_type": "stream",
          "text": [
            "loss: 0.3468: 100%|██████████| 469/469 [02:42<00:00,  2.89it/s]\n"
          ]
        },
        {
          "metadata": {
            "tags": null
          },
          "name": "stdout",
          "output_type": "stream",
          "text": [
            "Epoch: 132 \tTest Accuracy: 95.98\n",
            "EarlyStopping counter: 19 out of 100\n"
          ]
        },
        {
          "metadata": {
            "tags": null
          },
          "name": "stderr",
          "output_type": "stream",
          "text": [
            "loss: 0.3666: 100%|██████████| 469/469 [02:43<00:00,  2.86it/s]\n"
          ]
        },
        {
          "metadata": {
            "tags": null
          },
          "name": "stdout",
          "output_type": "stream",
          "text": [
            "Epoch: 133 \tTest Accuracy: 96.16\n",
            "EarlyStopping counter: 20 out of 100\n"
          ]
        },
        {
          "metadata": {
            "tags": null
          },
          "name": "stderr",
          "output_type": "stream",
          "text": [
            "loss: 0.3827: 100%|██████████| 469/469 [02:45<00:00,  2.83it/s]\n"
          ]
        },
        {
          "metadata": {
            "tags": null
          },
          "name": "stdout",
          "output_type": "stream",
          "text": [
            "Epoch: 134 \tTest Accuracy: 96.06\n",
            "EarlyStopping counter: 21 out of 100\n"
          ]
        },
        {
          "metadata": {
            "tags": null
          },
          "name": "stderr",
          "output_type": "stream",
          "text": [
            "loss: 0.3848: 100%|██████████| 469/469 [02:45<00:00,  2.84it/s]\n"
          ]
        },
        {
          "metadata": {
            "tags": null
          },
          "name": "stdout",
          "output_type": "stream",
          "text": [
            "Epoch: 135 \tTest Accuracy: 96.1\n",
            "EarlyStopping counter: 22 out of 100\n"
          ]
        },
        {
          "metadata": {
            "tags": null
          },
          "name": "stderr",
          "output_type": "stream",
          "text": [
            "loss: 0.3737: 100%|██████████| 469/469 [02:45<00:00,  2.83it/s]\n"
          ]
        },
        {
          "metadata": {
            "tags": null
          },
          "name": "stdout",
          "output_type": "stream",
          "text": [
            "Epoch: 136 \tTest Accuracy: 96.02\n",
            "EarlyStopping counter: 23 out of 100\n"
          ]
        },
        {
          "metadata": {
            "tags": null
          },
          "name": "stderr",
          "output_type": "stream",
          "text": [
            "loss: 0.4342: 100%|██████████| 469/469 [02:45<00:00,  2.83it/s]\n"
          ]
        },
        {
          "metadata": {
            "tags": null
          },
          "name": "stdout",
          "output_type": "stream",
          "text": [
            "Epoch: 137 \tTest Accuracy: 96.17\n",
            "EarlyStopping counter: 24 out of 100\n"
          ]
        },
        {
          "metadata": {
            "tags": null
          },
          "name": "stderr",
          "output_type": "stream",
          "text": [
            "loss: 0.4081: 100%|██████████| 469/469 [02:44<00:00,  2.85it/s]\n"
          ]
        },
        {
          "metadata": {
            "tags": null
          },
          "name": "stdout",
          "output_type": "stream",
          "text": [
            "Epoch: 138 \tTest Accuracy: 95.06\n",
            "EarlyStopping counter: 25 out of 100\n"
          ]
        },
        {
          "metadata": {
            "tags": null
          },
          "name": "stderr",
          "output_type": "stream",
          "text": [
            "loss: 0.3728: 100%|██████████| 469/469 [02:45<00:00,  2.84it/s]\n"
          ]
        },
        {
          "metadata": {
            "tags": null
          },
          "name": "stdout",
          "output_type": "stream",
          "text": [
            "Epoch: 139 \tTest Accuracy: 95.84\n",
            "EarlyStopping counter: 26 out of 100\n"
          ]
        },
        {
          "metadata": {
            "tags": null
          },
          "name": "stderr",
          "output_type": "stream",
          "text": [
            "loss: 0.4270: 100%|██████████| 469/469 [02:44<00:00,  2.85it/s]\n"
          ]
        },
        {
          "metadata": {
            "tags": null
          },
          "name": "stdout",
          "output_type": "stream",
          "text": [
            "Epoch: 140 \tTest Accuracy: 95.51\n",
            "EarlyStopping counter: 27 out of 100\n"
          ]
        },
        {
          "metadata": {
            "tags": null
          },
          "name": "stderr",
          "output_type": "stream",
          "text": [
            "loss: 0.3998: 100%|██████████| 469/469 [02:45<00:00,  2.83it/s]\n"
          ]
        },
        {
          "metadata": {
            "tags": null
          },
          "name": "stdout",
          "output_type": "stream",
          "text": [
            "Epoch: 141 \tTest Accuracy: 95.53\n",
            "EarlyStopping counter: 28 out of 100\n"
          ]
        },
        {
          "metadata": {
            "tags": null
          },
          "name": "stderr",
          "output_type": "stream",
          "text": [
            "loss: 0.3869: 100%|██████████| 469/469 [02:46<00:00,  2.82it/s]\n"
          ]
        },
        {
          "metadata": {
            "tags": null
          },
          "name": "stdout",
          "output_type": "stream",
          "text": [
            "Epoch: 142 \tTest Accuracy: 95.61\n",
            "EarlyStopping counter: 29 out of 100\n"
          ]
        },
        {
          "metadata": {
            "tags": null
          },
          "name": "stderr",
          "output_type": "stream",
          "text": [
            "loss: 0.4065: 100%|██████████| 469/469 [02:45<00:00,  2.83it/s]\n"
          ]
        },
        {
          "metadata": {
            "tags": null
          },
          "name": "stdout",
          "output_type": "stream",
          "text": [
            "Epoch: 143 \tTest Accuracy: 95.64\n",
            "EarlyStopping counter: 30 out of 100\n"
          ]
        },
        {
          "metadata": {
            "tags": null
          },
          "name": "stderr",
          "output_type": "stream",
          "text": [
            "loss: 0.4086: 100%|██████████| 469/469 [02:44<00:00,  2.85it/s]\n"
          ]
        },
        {
          "metadata": {
            "tags": null
          },
          "name": "stdout",
          "output_type": "stream",
          "text": [
            "Epoch: 144 \tTest Accuracy: 95.55\n",
            "EarlyStopping counter: 31 out of 100\n"
          ]
        },
        {
          "metadata": {
            "tags": null
          },
          "name": "stderr",
          "output_type": "stream",
          "text": [
            "loss: 0.3428: 100%|██████████| 469/469 [02:43<00:00,  2.86it/s]\n"
          ]
        },
        {
          "metadata": {
            "tags": null
          },
          "name": "stdout",
          "output_type": "stream",
          "text": [
            "Epoch: 145 \tTest Accuracy: 95.96\n",
            "EarlyStopping counter: 32 out of 100\n"
          ]
        },
        {
          "metadata": {
            "tags": null
          },
          "name": "stderr",
          "output_type": "stream",
          "text": [
            "loss: 0.3628: 100%|██████████| 469/469 [02:42<00:00,  2.89it/s]\n"
          ]
        },
        {
          "metadata": {
            "tags": null
          },
          "name": "stdout",
          "output_type": "stream",
          "text": [
            "Epoch: 146 \tTest Accuracy: 96.16\n",
            "EarlyStopping counter: 33 out of 100\n"
          ]
        },
        {
          "metadata": {
            "tags": null
          },
          "name": "stderr",
          "output_type": "stream",
          "text": [
            "loss: 0.3721: 100%|██████████| 469/469 [02:42<00:00,  2.88it/s]\n"
          ]
        },
        {
          "metadata": {
            "tags": null
          },
          "name": "stdout",
          "output_type": "stream",
          "text": [
            "Epoch: 147 \tTest Accuracy: 95.76\n",
            "EarlyStopping counter: 34 out of 100\n"
          ]
        },
        {
          "metadata": {
            "tags": null
          },
          "name": "stderr",
          "output_type": "stream",
          "text": [
            "loss: 0.3439: 100%|██████████| 469/469 [02:43<00:00,  2.88it/s]\n"
          ]
        },
        {
          "metadata": {
            "tags": null
          },
          "name": "stdout",
          "output_type": "stream",
          "text": [
            "Epoch: 148 \tTest Accuracy: 95.82\n",
            "EarlyStopping counter: 35 out of 100\n"
          ]
        },
        {
          "metadata": {
            "tags": null
          },
          "name": "stderr",
          "output_type": "stream",
          "text": [
            "loss: 0.3442: 100%|██████████| 469/469 [02:42<00:00,  2.89it/s]\n"
          ]
        },
        {
          "metadata": {
            "tags": null
          },
          "name": "stdout",
          "output_type": "stream",
          "text": [
            "Epoch: 149 \tTest Accuracy: 96.36\n",
            "Test acc increased (96.280000 --> 96.360000).  Saving model ...\n"
          ]
        },
        {
          "metadata": {
            "tags": null
          },
          "name": "stderr",
          "output_type": "stream",
          "text": [
            "loss: 0.3419: 100%|██████████| 469/469 [02:41<00:00,  2.91it/s]\n"
          ]
        },
        {
          "metadata": {
            "tags": null
          },
          "name": "stdout",
          "output_type": "stream",
          "text": [
            "Epoch: 150 \tTest Accuracy: 96.28\n",
            "EarlyStopping counter: 1 out of 100\n"
          ]
        },
        {
          "metadata": {
            "tags": null
          },
          "name": "stderr",
          "output_type": "stream",
          "text": [
            "loss: 0.3614: 100%|██████████| 469/469 [02:42<00:00,  2.89it/s]\n"
          ]
        },
        {
          "metadata": {
            "tags": null
          },
          "name": "stdout",
          "output_type": "stream",
          "text": [
            "Epoch: 151 \tTest Accuracy: 96.26\n",
            "EarlyStopping counter: 2 out of 100\n"
          ]
        },
        {
          "metadata": {
            "tags": null
          },
          "name": "stderr",
          "output_type": "stream",
          "text": [
            "loss: 0.3355: 100%|██████████| 469/469 [02:41<00:00,  2.90it/s]\n"
          ]
        },
        {
          "metadata": {
            "tags": null
          },
          "name": "stdout",
          "output_type": "stream",
          "text": [
            "Epoch: 152 \tTest Accuracy: 96.26\n",
            "EarlyStopping counter: 3 out of 100\n"
          ]
        },
        {
          "metadata": {
            "tags": null
          },
          "name": "stderr",
          "output_type": "stream",
          "text": [
            "loss: 0.3544: 100%|██████████| 469/469 [02:43<00:00,  2.87it/s]\n"
          ]
        },
        {
          "metadata": {
            "tags": null
          },
          "name": "stdout",
          "output_type": "stream",
          "text": [
            "Epoch: 153 \tTest Accuracy: 96.18\n",
            "EarlyStopping counter: 4 out of 100\n"
          ]
        },
        {
          "metadata": {
            "tags": null
          },
          "name": "stderr",
          "output_type": "stream",
          "text": [
            "loss: 0.3952: 100%|██████████| 469/469 [02:41<00:00,  2.90it/s]\n"
          ]
        },
        {
          "metadata": {
            "tags": null
          },
          "name": "stdout",
          "output_type": "stream",
          "text": [
            "Epoch: 154 \tTest Accuracy: 96.07\n",
            "EarlyStopping counter: 5 out of 100\n"
          ]
        },
        {
          "metadata": {
            "tags": null
          },
          "name": "stderr",
          "output_type": "stream",
          "text": [
            "loss: 0.3572: 100%|██████████| 469/469 [02:41<00:00,  2.90it/s]\n"
          ]
        },
        {
          "metadata": {
            "tags": null
          },
          "name": "stdout",
          "output_type": "stream",
          "text": [
            "Epoch: 155 \tTest Accuracy: 96.02\n",
            "EarlyStopping counter: 6 out of 100\n"
          ]
        },
        {
          "metadata": {
            "tags": null
          },
          "name": "stderr",
          "output_type": "stream",
          "text": [
            "loss: 0.4028: 100%|██████████| 469/469 [02:42<00:00,  2.89it/s]\n"
          ]
        },
        {
          "metadata": {
            "tags": null
          },
          "name": "stdout",
          "output_type": "stream",
          "text": [
            "Epoch: 156 \tTest Accuracy: 95.86\n",
            "EarlyStopping counter: 7 out of 100\n"
          ]
        },
        {
          "metadata": {
            "tags": null
          },
          "name": "stderr",
          "output_type": "stream",
          "text": [
            "loss: 0.3771: 100%|██████████| 469/469 [02:41<00:00,  2.91it/s]\n"
          ]
        },
        {
          "metadata": {
            "tags": null
          },
          "name": "stdout",
          "output_type": "stream",
          "text": [
            "Epoch: 157 \tTest Accuracy: 96.29\n",
            "EarlyStopping counter: 8 out of 100\n"
          ]
        },
        {
          "metadata": {
            "tags": null
          },
          "name": "stderr",
          "output_type": "stream",
          "text": [
            "loss: 0.3822: 100%|██████████| 469/469 [02:41<00:00,  2.90it/s]\n"
          ]
        },
        {
          "metadata": {
            "tags": null
          },
          "name": "stdout",
          "output_type": "stream",
          "text": [
            "Epoch: 158 \tTest Accuracy: 95.89\n",
            "EarlyStopping counter: 9 out of 100\n"
          ]
        },
        {
          "metadata": {
            "tags": null
          },
          "name": "stderr",
          "output_type": "stream",
          "text": [
            "loss: 0.3631: 100%|██████████| 469/469 [02:40<00:00,  2.92it/s]\n"
          ]
        },
        {
          "metadata": {
            "tags": null
          },
          "name": "stdout",
          "output_type": "stream",
          "text": [
            "Epoch: 159 \tTest Accuracy: 96.27\n",
            "EarlyStopping counter: 10 out of 100\n"
          ]
        },
        {
          "metadata": {
            "tags": null
          },
          "name": "stderr",
          "output_type": "stream",
          "text": [
            "loss: 0.3859: 100%|██████████| 469/469 [02:41<00:00,  2.91it/s]\n"
          ]
        },
        {
          "metadata": {
            "tags": null
          },
          "name": "stdout",
          "output_type": "stream",
          "text": [
            "Epoch: 160 \tTest Accuracy: 95.77\n",
            "EarlyStopping counter: 11 out of 100\n"
          ]
        },
        {
          "metadata": {
            "tags": null
          },
          "name": "stderr",
          "output_type": "stream",
          "text": [
            "loss: 0.3793: 100%|██████████| 469/469 [02:41<00:00,  2.91it/s]\n"
          ]
        },
        {
          "metadata": {
            "tags": null
          },
          "name": "stdout",
          "output_type": "stream",
          "text": [
            "Epoch: 161 \tTest Accuracy: 95.72\n",
            "EarlyStopping counter: 12 out of 100\n"
          ]
        },
        {
          "metadata": {
            "tags": null
          },
          "name": "stderr",
          "output_type": "stream",
          "text": [
            "loss: 0.4077: 100%|██████████| 469/469 [02:43<00:00,  2.87it/s]\n"
          ]
        },
        {
          "metadata": {
            "tags": null
          },
          "name": "stdout",
          "output_type": "stream",
          "text": [
            "Epoch: 162 \tTest Accuracy: 95.8\n",
            "EarlyStopping counter: 13 out of 100\n"
          ]
        },
        {
          "metadata": {
            "tags": null
          },
          "name": "stderr",
          "output_type": "stream",
          "text": [
            "loss: 0.3862: 100%|██████████| 469/469 [02:42<00:00,  2.89it/s]\n"
          ]
        },
        {
          "metadata": {
            "tags": null
          },
          "name": "stdout",
          "output_type": "stream",
          "text": [
            "Epoch: 163 \tTest Accuracy: 95.65\n",
            "EarlyStopping counter: 14 out of 100\n"
          ]
        },
        {
          "metadata": {
            "tags": null
          },
          "name": "stderr",
          "output_type": "stream",
          "text": [
            "loss: 0.4017: 100%|██████████| 469/469 [02:44<00:00,  2.84it/s]\n"
          ]
        },
        {
          "metadata": {
            "tags": null
          },
          "name": "stdout",
          "output_type": "stream",
          "text": [
            "Epoch: 164 \tTest Accuracy: 95.55\n",
            "EarlyStopping counter: 15 out of 100\n"
          ]
        },
        {
          "metadata": {
            "tags": null
          },
          "name": "stderr",
          "output_type": "stream",
          "text": [
            "loss: 0.3431: 100%|██████████| 469/469 [02:41<00:00,  2.90it/s]\n"
          ]
        },
        {
          "metadata": {
            "tags": null
          },
          "name": "stdout",
          "output_type": "stream",
          "text": [
            "Epoch: 165 \tTest Accuracy: 95.7\n",
            "EarlyStopping counter: 16 out of 100\n"
          ]
        },
        {
          "output_type": "stream",
          "name": "stderr",
          "text": [
            "loss: 0.3536:  54%|█████▎    | 252/469 [01:26<01:11,  3.03it/s]"
          ]
        }
      ]
    },
    {
      "cell_type": "code",
      "source": [
        "binarize = BinarizeF.apply; print(binarize)\n",
        "cfg = config\n",
        "cfg['model'] = 'NetFC(config, [128, 128])'\n",
        "run(cfg)"
      ],
      "metadata": {
        "colab": {
          "base_uri": "https://localhost:8080/"
        },
        "id": "WmK8VhS_i5iS",
        "outputId": "88d467f2-9559-493a-c5db-d4236dae55db"
      },
      "execution_count": null,
      "outputs": [
        {
          "output_type": "stream",
          "name": "stdout",
          "text": [
            "<bound method Function.apply of <class '__main__.BinarizeF'>>\n"
          ]
        }
      ]
    },
    {
      "cell_type": "code",
      "source": [
        "cfg = config\n",
        "cfg['model_class_name'] = 'Net'\n",
        "run(cfg)"
      ],
      "metadata": {
        "id": "hRa7Vxl2l3YZ"
      },
      "execution_count": null,
      "outputs": []
    },
    {
      "cell_type": "code",
      "source": [
        "cfg = config\n",
        "cfg['model_class_name'] = 'NetFC_FirstConv'\n",
        "run(cfg)"
      ],
      "metadata": {
        "id": "5jUtkX1Zl_L_"
      },
      "execution_count": null,
      "outputs": []
    },
    {
      "cell_type": "code",
      "source": [
        "cfg = config\n",
        "cfg['model_class_name'] = 'NetFC_FirstConv'\n",
        "run(cfg)\n"
      ],
      "metadata": {
        "id": "YsXE3uYL0Qot"
      },
      "execution_count": null,
      "outputs": []
    },
    {
      "cell_type": "code",
      "source": [
        "cfg = config\n",
        "cfg['model'] = 'NetFC_FirstConv(config)'\n",
        "run(config=cfg)"
      ],
      "metadata": {
        "id": "lTNxmYPN5suK"
      },
      "execution_count": null,
      "outputs": []
    }
  ]
}